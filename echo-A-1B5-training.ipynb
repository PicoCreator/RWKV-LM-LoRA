{
 "cells": [
  {
   "attachments": {},
   "cell_type": "markdown",
   "metadata": {},
   "source": [
    "# Echo-A 1B5\n",
    "This model has the same settings as raven 1B5 model.\n",
    "\n",
    "- Layer count: 24\n",
    "- Embed size: 2048\n",
    "\n",
    "The goal of this model training is to fully replicate, and match (or exceed) the existing 1B5 telephone model that was finetuned from raven.\n",
    "\n",
    "This ensures that our training process/replication for this test is valid\n",
    "\n",
    "> This project assumes you have the rwkv-exp conda env setup, and you are executing in that environment - see the main README.md for the conda env setup steps"
   ]
  },
  {
   "attachments": {},
   "cell_type": "markdown",
   "metadata": {},
   "source": [
    "## Part 1 : Foundation model training"
   ]
  },
  {
   "cell_type": "code",
   "execution_count": 3,
   "metadata": {},
   "outputs": [
    {
     "name": "stdout",
     "output_type": "stream",
     "text": [
      "--2023-06-22 16:21:18--  https://huggingface.co/picocreator/memory-size-experiment-for-rwkv/resolve/main/Echo-A-1B5-Init.pth\n",
      "Resolving huggingface.co (huggingface.co)... 13.224.249.10, 13.224.249.119, 13.224.249.44, ...\n",
      "Connecting to huggingface.co (huggingface.co)|13.224.249.10|:443... connected.\n",
      "HTTP request sent, awaiting response... 302 Found\n",
      "Location: https://cdn-lfs.huggingface.co/repos/cb/ef/cbef09abb2634a3375b28868bffa285226dfeabedec89b28c2fb302221164d66/0ec7214ed16737a6348254e6f96d8cdc04d3b5efbd5f53fe9337607ea42b5b9f?response-content-disposition=attachment%3B+filename*%3DUTF-8%27%27Echo-A-1B5-Init.pth%3B+filename%3D%22Echo-A-1B5-Init.pth%22%3B&Expires=1687681279&Policy=eyJTdGF0ZW1lbnQiOlt7IlJlc291cmNlIjoiaHR0cHM6Ly9jZG4tbGZzLmh1Z2dpbmdmYWNlLmNvL3JlcG9zL2NiL2VmL2NiZWYwOWFiYjI2MzRhMzM3NWIyODg2OGJmZmEyODUyMjZkZmVhYmVkZWM4OWIyOGMyZmIzMDIyMjExNjRkNjYvMGVjNzIxNGVkMTY3MzdhNjM0ODI1NGU2Zjk2ZDhjZGMwNGQzYjVlZmJkNWY1M2ZlOTMzNzYwN2VhNDJiNWI5Zj9yZXNwb25zZS1jb250ZW50LWRpc3Bvc2l0aW9uPSoiLCJDb25kaXRpb24iOnsiRGF0ZUxlc3NUaGFuIjp7IkFXUzpFcG9jaFRpbWUiOjE2ODc2ODEyNzl9fX1dfQ__&Signature=xbZwKL3YempQ7T5VUl5RH21KYJAz013g97OEC0h2NkXPC%7EhYIcUs6-WPbeUoep0Fu7ueFLX%7ERuMFXtDIxZ5wR3bOnDhIp%7ElTI8i4bmlmQwzFaYT1TdznmOSafz113yL91ZQu2yiIIOcI5o9nLJYLWoqiN4HGa67KeR8KjMiCdQxu%7Ej9alMLB0MxEoBarFkH8%7EhVo0mlnmpQMuOX0qNub7cYC%7EDo5WIMqRXgpogZ2L630nZt75T4AjRDtuWHtONn5hAM5D3x2-2WfdCzmTx9rTx6A92z9LEygvqTJZAOzJM9HEcuqfkZskmou9Bj-BQQIi%7ERs%7E7ZjcP8mBbzRNfrDrw__&Key-Pair-Id=KVTP0A1DKRTAX [following]\n",
      "--2023-06-22 16:21:18--  https://cdn-lfs.huggingface.co/repos/cb/ef/cbef09abb2634a3375b28868bffa285226dfeabedec89b28c2fb302221164d66/0ec7214ed16737a6348254e6f96d8cdc04d3b5efbd5f53fe9337607ea42b5b9f?response-content-disposition=attachment%3B+filename*%3DUTF-8%27%27Echo-A-1B5-Init.pth%3B+filename%3D%22Echo-A-1B5-Init.pth%22%3B&Expires=1687681279&Policy=eyJTdGF0ZW1lbnQiOlt7IlJlc291cmNlIjoiaHR0cHM6Ly9jZG4tbGZzLmh1Z2dpbmdmYWNlLmNvL3JlcG9zL2NiL2VmL2NiZWYwOWFiYjI2MzRhMzM3NWIyODg2OGJmZmEyODUyMjZkZmVhYmVkZWM4OWIyOGMyZmIzMDIyMjExNjRkNjYvMGVjNzIxNGVkMTY3MzdhNjM0ODI1NGU2Zjk2ZDhjZGMwNGQzYjVlZmJkNWY1M2ZlOTMzNzYwN2VhNDJiNWI5Zj9yZXNwb25zZS1jb250ZW50LWRpc3Bvc2l0aW9uPSoiLCJDb25kaXRpb24iOnsiRGF0ZUxlc3NUaGFuIjp7IkFXUzpFcG9jaFRpbWUiOjE2ODc2ODEyNzl9fX1dfQ__&Signature=xbZwKL3YempQ7T5VUl5RH21KYJAz013g97OEC0h2NkXPC%7EhYIcUs6-WPbeUoep0Fu7ueFLX%7ERuMFXtDIxZ5wR3bOnDhIp%7ElTI8i4bmlmQwzFaYT1TdznmOSafz113yL91ZQu2yiIIOcI5o9nLJYLWoqiN4HGa67KeR8KjMiCdQxu%7Ej9alMLB0MxEoBarFkH8%7EhVo0mlnmpQMuOX0qNub7cYC%7EDo5WIMqRXgpogZ2L630nZt75T4AjRDtuWHtONn5hAM5D3x2-2WfdCzmTx9rTx6A92z9LEygvqTJZAOzJM9HEcuqfkZskmou9Bj-BQQIi%7ERs%7E7ZjcP8mBbzRNfrDrw__&Key-Pair-Id=KVTP0A1DKRTAX\n",
      "Resolving cdn-lfs.huggingface.co (cdn-lfs.huggingface.co)... 18.155.68.98, 18.155.68.73, 18.155.68.128, ...\n",
      "Connecting to cdn-lfs.huggingface.co (cdn-lfs.huggingface.co)|18.155.68.98|:443... connected.\n",
      "HTTP request sent, awaiting response... 200 OK\n",
      "Length: 3030345861 (2.8G) [binary/octet-stream]\n",
      "Saving to: ‘Echo-A-1B5-Init.pth’\n",
      "\n",
      "Echo-A-1B5-Init.pth 100%[===================>]   2.82G  3.24MB/s    in 8m 34s  \n",
      "\n",
      "2023-06-22 16:29:54 (5.62 MB/s) - ‘Echo-A-1B5-Init.pth’ saved [3030345861/3030345861]\n",
      "\n",
      "-rw-rw-r-- 1 picocreator picocreator 2.9G Jun 22 12:41 ./model/Echo-A-1B5-Init.pth\n"
     ]
    }
   ],
   "source": [
    "# First lets get the blank init model, these init model was generated\n",
    "# using the original RWKV-LM repo (as at this point of writing, this repo cannot init a model)\n",
    "#\n",
    "# As such I have preinitialized these blank models and uploaded them to HF for convinence\n",
    "!mkdir -p ./model/\n",
    "!rm -rf ./model/Echo-A-1B5-Init.pth\n",
    "!cd ./model/ && wget https://huggingface.co/picocreator/memory-size-experiment-for-rwkv/resolve/main/Echo-A-1B5-Init.pth\n",
    "!ls -alh ./model/Echo-A-1B5-Init.pth"
   ]
  },
  {
   "cell_type": "code",
   "execution_count": 4,
   "metadata": {},
   "outputs": [],
   "source": [
    "# Lets ensure some of the directories we need are setup\n",
    "!mkdir -p ./datapaths/\n",
    "!mkdir -p ./checkpoint/"
   ]
  },
  {
   "cell_type": "code",
   "execution_count": null,
   "metadata": {},
   "outputs": [],
   "source": [
    "# Lets start the training process"
   ]
  }
 ],
 "metadata": {
  "kernelspec": {
   "display_name": "rwkv-exp",
   "language": "python",
   "name": "python3"
  },
  "language_info": {
   "codemirror_mode": {
    "name": "ipython",
    "version": 3
   },
   "file_extension": ".py",
   "mimetype": "text/x-python",
   "name": "python",
   "nbconvert_exporter": "python",
   "pygments_lexer": "ipython3",
   "version": "3.11.4"
  },
  "orig_nbformat": 4
 },
 "nbformat": 4,
 "nbformat_minor": 2
}
