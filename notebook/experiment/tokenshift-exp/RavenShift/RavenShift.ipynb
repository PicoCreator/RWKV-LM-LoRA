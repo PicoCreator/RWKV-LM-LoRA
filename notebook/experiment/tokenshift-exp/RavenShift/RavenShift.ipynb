{
 "cells": [
  {
   "attachments": {},
   "cell_type": "markdown",
   "metadata": {},
   "source": [
    "# RWKV RavenShift\n",
    "\n",
    "The following is a mad experiment in running existing raven code, directly with the new token shift"
   ]
  },
  {
   "attachments": {},
   "cell_type": "markdown",
   "metadata": {},
   "source": [
    "## Basic Setup"
   ]
  },
  {
   "cell_type": "code",
   "execution_count": 10,
   "metadata": {},
   "outputs": [
    {
     "name": "stdout",
     "output_type": "stream",
     "text": [
      "--2023-07-22 14:09:04--  https://huggingface.co/BlinkDL/rwkv-4-raven/resolve/main/RWKV-4-Raven-3B-v12-Eng98%25-Other2%25-20230520-ctx4096.pth\n",
      "Resolving huggingface.co (huggingface.co)... 13.33.33.20, 13.33.33.55, 13.33.33.110, ...\n",
      "Connecting to huggingface.co (huggingface.co)|13.33.33.20|:443... connected.\n",
      "HTTP request sent, awaiting response... 302 Found\n",
      "Location: https://cdn-lfs.huggingface.co/repos/41/55/4155c7aaff64e0f4b926df1a8fff201f8ee3653c39ba67b31e4973ae97828633/1eea1845acfe9729dfdaec66a8d1aeb91a1287d94bebbca5529c13c050540b33?response-content-disposition=attachment%3B+filename*%3DUTF-8%27%27RWKV-4-Raven-3B-v12-Eng98%2525-Other2%2525-20230520-ctx4096.pth%3B+filename%3D%22RWKV-4-Raven-3B-v12-Eng98%25-Other2%25-20230520-ctx4096.pth%22%3B&Expires=1690265344&Policy=eyJTdGF0ZW1lbnQiOlt7IkNvbmRpdGlvbiI6eyJEYXRlTGVzc1RoYW4iOnsiQVdTOkVwb2NoVGltZSI6MTY5MDI2NTM0NH19LCJSZXNvdXJjZSI6Imh0dHBzOi8vY2RuLWxmcy5odWdnaW5nZmFjZS5jby9yZXBvcy80MS81NS80MTU1YzdhYWZmNjRlMGY0YjkyNmRmMWE4ZmZmMjAxZjhlZTM2NTNjMzliYTY3YjMxZTQ5NzNhZTk3ODI4NjMzLzFlZWExODQ1YWNmZTk3MjlkZmRhZWM2NmE4ZDFhZWI5MWExMjg3ZDk0YmViYmNhNTUyOWMxM2MwNTA1NDBiMzM%7EcmVzcG9uc2UtY29udGVudC1kaXNwb3NpdGlvbj0qIn1dfQ__&Signature=WxqRjQo6F4bNzJGYN7vjPcNTFm6VaPhf-xQ134B5hJSedqaScQ0RZNUsEGuBTd%7EHEecsaX0enPs07-%7EJAEvKfEiwKHZJ5X%7ExlCAQSPo4z2OJb53Mr2-voopaWbj56%7EF-9JED%7E2KVRNkrmsIT8MKWjVDN3NLBum%7EcaUlNsYhvnbUlD1XXF8Ceipouneb1k8KaTAC6lZysLh3m1b3CbC%7EU-4-vIWQ0TcGaUglp1n9kaHPLXa04svEqiu4CEBF%7Eu-U6rlVby%7ECjjQVdAPHBXbItQXBzjw4pMswEDgNEJ1TJTwWbUZWUdoTRazzxgv777TM%7EKfwdQH6--cyeTW%7EQt--Ffg__&Key-Pair-Id=KVTP0A1DKRTAX [following]\n",
      "--2023-07-22 14:09:04--  https://cdn-lfs.huggingface.co/repos/41/55/4155c7aaff64e0f4b926df1a8fff201f8ee3653c39ba67b31e4973ae97828633/1eea1845acfe9729dfdaec66a8d1aeb91a1287d94bebbca5529c13c050540b33?response-content-disposition=attachment%3B+filename*%3DUTF-8%27%27RWKV-4-Raven-3B-v12-Eng98%2525-Other2%2525-20230520-ctx4096.pth%3B+filename%3D%22RWKV-4-Raven-3B-v12-Eng98%25-Other2%25-20230520-ctx4096.pth%22%3B&Expires=1690265344&Policy=eyJTdGF0ZW1lbnQiOlt7IkNvbmRpdGlvbiI6eyJEYXRlTGVzc1RoYW4iOnsiQVdTOkVwb2NoVGltZSI6MTY5MDI2NTM0NH19LCJSZXNvdXJjZSI6Imh0dHBzOi8vY2RuLWxmcy5odWdnaW5nZmFjZS5jby9yZXBvcy80MS81NS80MTU1YzdhYWZmNjRlMGY0YjkyNmRmMWE4ZmZmMjAxZjhlZTM2NTNjMzliYTY3YjMxZTQ5NzNhZTk3ODI4NjMzLzFlZWExODQ1YWNmZTk3MjlkZmRhZWM2NmE4ZDFhZWI5MWExMjg3ZDk0YmViYmNhNTUyOWMxM2MwNTA1NDBiMzM%7EcmVzcG9uc2UtY29udGVudC1kaXNwb3NpdGlvbj0qIn1dfQ__&Signature=WxqRjQo6F4bNzJGYN7vjPcNTFm6VaPhf-xQ134B5hJSedqaScQ0RZNUsEGuBTd%7EHEecsaX0enPs07-%7EJAEvKfEiwKHZJ5X%7ExlCAQSPo4z2OJb53Mr2-voopaWbj56%7EF-9JED%7E2KVRNkrmsIT8MKWjVDN3NLBum%7EcaUlNsYhvnbUlD1XXF8Ceipouneb1k8KaTAC6lZysLh3m1b3CbC%7EU-4-vIWQ0TcGaUglp1n9kaHPLXa04svEqiu4CEBF%7Eu-U6rlVby%7ECjjQVdAPHBXbItQXBzjw4pMswEDgNEJ1TJTwWbUZWUdoTRazzxgv777TM%7EKfwdQH6--cyeTW%7EQt--Ffg__&Key-Pair-Id=KVTP0A1DKRTAX\n",
      "Resolving cdn-lfs.huggingface.co (cdn-lfs.huggingface.co)... 18.155.68.128, 18.155.68.73, 18.155.68.94, ...\n",
      "Connecting to cdn-lfs.huggingface.co (cdn-lfs.huggingface.co)|18.155.68.128|:443... connected.\n",
      "HTTP request sent, awaiting response... 200 OK\n",
      "Length: 5969345074 (5.6G) [binary/octet-stream]\n",
      "Saving to: ‘RWKV-4-Raven-3B-v12-Eng98%-Other2%-20230520-ctx4096.pth’\n",
      "\n",
      "RWKV-4-Raven-3B-v12 100%[===================>]   5.56G  17.4MB/s    in 5m 46s  \n",
      "\n",
      "2023-07-22 14:14:52 (16.5 MB/s) - ‘RWKV-4-Raven-3B-v12-Eng98%-Other2%-20230520-ctx4096.pth’ saved [5969345074/5969345074]\n",
      "\n",
      "total 38G\n",
      "drwxrwxr-x  2 picocreator picocreator   10 Jul 22 14:09 .\n",
      "drwxrwxr-x 11 picocreator picocreator   15 Jul 16 00:09 ..\n",
      "-rw-rw-r--  1 picocreator picocreator 2.4G Jul 15 00:57 L12-D2560-init.pth\n",
      "-rw-rw-r--  1 picocreator picocreator 5.6G May 21 15:13 RWKV-4-Raven-3B-v12-Eng98%-Other2%-20230520-ctx4096.pth\n",
      "-rw-rw-r--  1 picocreator picocreator  14G May 22 18:32 RWKV-4-Raven-7B-v12-Eng98%-Other2%-20230521-ctx8192.pth\n",
      "-rw-rw-r--  1 picocreator picocreator 4.8G Jul 16 01:37 TokenShift-A-Tune1.pth\n",
      "-rw-rw-r--  1 picocreator picocreator 4.8G Jul 16 08:54 TokenShift-A-Tune3.pth\n",
      "-rw-rw-r--  1 picocreator picocreator 4.8G Jul 17 00:45 TokenShift-A-Tune4.pth\n",
      "-rw-rw-r--  1 picocreator picocreator 1.7G Jul 20 21:20 TokenShift-B-Tune3.pth\n",
      "-rw-rw-r--  1 picocreator picocreator 1.7G Jul 21 10:35 TokenShift-B-Tune4.pth\n"
     ]
    }
   ],
   "source": [
    "# Lets download the required models\n",
    "!mkdir -p ../../../../model/\n",
    "!mkdir -p ../../../../datapath/\n",
    "!mkdir -p ../../../../checkpoint/\n",
    "!cd ../../../../model/ && wget -nc https://huggingface.co/BlinkDL/rwkv-4-raven/resolve/main/RWKV-4-Raven-3B-v12-Eng98%25-Other2%25-20230520-ctx4096.pth\n",
    "# !cd ../../../../model/ && wget -nc https://huggingface.co/BlinkDL/rwkv-4-raven/resolve/main/RWKV-4-Raven-7B-v12-Eng98%25-Other2%25-20230521-ctx8192.pth\n",
    "!ls -alh ../../../../model/"
   ]
  },
  {
   "cell_type": "code",
   "execution_count": 3,
   "metadata": {},
   "outputs": [
    {
     "name": "stdout",
     "output_type": "stream",
     "text": [
      "DEEPSPEED_STRAT: deepspeed_stage_1\n",
      "ENABLE_WANDB: True\n",
      "GPU_DEVICES: auto\n",
      "NOTEBOOK_DIR: /home/picocreator/rwkv-proj/rwkv5-tokenshift-experiment/notebook/experiment/tokenshift-exp/RavenShift\n",
      "INFERENCE_DIR: /home/picocreator/rwkv-proj/rwkv5-tokenshift-experiment/RWKV-v4neo\n",
      "TRAINER_DIR: /home/picocreator/rwkv-proj/rwkv5-tokenshift-experiment/RWKV-v4neo\n",
      "PROJECT_DIR: /home/picocreator/rwkv-proj/rwkv5-tokenshift-experiment\n"
     ]
    }
   ],
   "source": [
    "DEEPSPEED_STRAT=\"deepspeed_stage_1\"\n",
    "GPU_DEVICES=\"auto\"\n",
    "ENABLE_WANDB=True\n",
    "WANDB_PREFIX=\"RavenShift-Exp\"\n",
    "\n",
    "print(\"DEEPSPEED_STRAT:\", DEEPSPEED_STRAT)\n",
    "print(\"ENABLE_WANDB:\", ENABLE_WANDB)\n",
    "print(\"GPU_DEVICES:\", GPU_DEVICES)\n",
    "\n",
    "if ENABLE_WANDB:\n",
    "    WANDB_MODE=\"online\"\n",
    "else:\n",
    "    WANDB_MODE=\"disabled\"\n",
    "\n",
    "# Computing the notebook, and various paths\n",
    "import os\n",
    "NOTEBOOK_DIR=os.path.dirname(os.path.abspath(\"__file__\"))\n",
    "PROJECT_DIR=os.path.abspath(os.path.join(NOTEBOOK_DIR, \"../../../../\"))\n",
    "TRAINER_DIR=os.path.abspath(os.path.join(PROJECT_DIR, \"./RWKV-v4neo/\"))\n",
    "INFERENCE_DIR=os.path.abspath(os.path.join(PROJECT_DIR, \"./RWKV-v4neo/\"))\n",
    "\n",
    "print(\"NOTEBOOK_DIR:\", NOTEBOOK_DIR)\n",
    "print(\"INFERENCE_DIR:\", INFERENCE_DIR)\n",
    "print(\"TRAINER_DIR:\", TRAINER_DIR)\n",
    "print(\"PROJECT_DIR:\", PROJECT_DIR)"
   ]
  },
  {
   "cell_type": "markdown",
   "metadata": {},
   "source": [
    "## Mad Science"
   ]
  },
  {
   "cell_type": "code",
   "execution_count": 11,
   "metadata": {},
   "outputs": [
    {
     "name": "stdout",
     "output_type": "stream",
     "text": [
      "[2023-07-22 14:15:15,503] [INFO] [real_accelerator.py:110:get_accelerator] Setting ds_accelerator to cuda (auto detect)\n",
      "[RWKV.model] Running RWKV model using 'torch-jit' with torch '2.0.1'\n",
      "Using /home/picocreator/.cache/torch_extensions/py311_cu117 as PyTorch extensions root...\n",
      "Detected CUDA files, patching ldflags\n",
      "Emitting ninja build file /home/picocreator/.cache/torch_extensions/py311_cu117/wkv_1024_bf16/build.ninja...\n",
      "Building extension module wkv_1024_bf16...\n",
      "Allowing ninja to set a default number of workers... (overridable by setting the environment variable MAX_JOBS=N)\n",
      "ninja: no work to do.\n",
      "Loading extension module wkv_1024_bf16...\n"
     ]
    }
   ],
   "source": [
    "# Lets do a quick dragon prompt validation\n",
    "!cd \"{INFERENCE_DIR}\" && python3 dragon_test.py \"../model/RWKV-4-Raven-3B-v12-Eng98%-Other2%-20230520-ctx4096.pth\" \"cuda\" 500"
   ]
  },
  {
   "cell_type": "code",
   "execution_count": null,
   "metadata": {},
   "outputs": [],
   "source": [
    "# Lets do a memory eval \n",
    "!python3 ../memory_script/eval_model_memory_guided.py \"{PROJECT_DIR}/model/RWKV-4-Raven-3B-v12-Eng98%-Other2%-20230520-ctx4096.pth\" "
   ]
  }
 ],
 "metadata": {
  "kernelspec": {
   "display_name": "Python 3 (ipykernel)",
   "language": "python",
   "name": "python3"
  },
  "language_info": {
   "codemirror_mode": {
    "name": "ipython",
    "version": 3
   },
   "file_extension": ".py",
   "mimetype": "text/x-python",
   "name": "python",
   "nbconvert_exporter": "python",
   "pygments_lexer": "ipython3",
   "version": "3.11.4"
  }
 },
 "nbformat": 4,
 "nbformat_minor": 4
}
