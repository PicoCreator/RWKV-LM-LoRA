{
 "cells": [
  {
   "cell_type": "code",
   "execution_count": 7,
   "metadata": {},
   "outputs": [
    {
     "name": "stdout",
     "output_type": "stream",
     "text": [
      "huggingface/tokenizers: The current process just got forked, after parallelism has already been used. Disabling parallelism to avoid deadlocks...\n",
      "To disable this warning, you can either:\n",
      "\t- Avoid using `tokenizers` before the fork if possible\n",
      "\t- Explicitly set the environment variable TOKENIZERS_PARALLELISM=(true | false)\n"
     ]
    },
    {
     "name": "stdout",
     "output_type": "stream",
     "text": [
      "Requirement already satisfied: transformers in /home/picocreator/anaconda3/envs/rwkv-infctx/lib/python3.11/site-packages (4.30.2)\n",
      "Requirement already satisfied: datasets in /home/picocreator/anaconda3/envs/rwkv-infctx/lib/python3.11/site-packages (2.13.1)\n",
      "Requirement already satisfied: tqdm in /home/picocreator/anaconda3/envs/rwkv-infctx/lib/python3.11/site-packages (4.65.0)\n",
      "Requirement already satisfied: torch in /home/picocreator/anaconda3/envs/rwkv-infctx/lib/python3.11/site-packages (2.0.1)\n",
      "Requirement already satisfied: filelock in /home/picocreator/anaconda3/envs/rwkv-infctx/lib/python3.11/site-packages (from transformers) (3.9.0)\n",
      "Requirement already satisfied: huggingface-hub<1.0,>=0.14.1 in /home/picocreator/anaconda3/envs/rwkv-infctx/lib/python3.11/site-packages (from transformers) (0.16.2)\n",
      "Requirement already satisfied: numpy>=1.17 in /home/picocreator/anaconda3/envs/rwkv-infctx/lib/python3.11/site-packages (from transformers) (1.25.0)\n",
      "Requirement already satisfied: packaging>=20.0 in /home/picocreator/anaconda3/envs/rwkv-infctx/lib/python3.11/site-packages (from transformers) (23.1)\n",
      "Requirement already satisfied: pyyaml>=5.1 in /home/picocreator/anaconda3/envs/rwkv-infctx/lib/python3.11/site-packages (from transformers) (6.0)\n",
      "Requirement already satisfied: regex!=2019.12.17 in /home/picocreator/anaconda3/envs/rwkv-infctx/lib/python3.11/site-packages (from transformers) (2023.6.3)\n",
      "Requirement already satisfied: requests in /home/picocreator/anaconda3/envs/rwkv-infctx/lib/python3.11/site-packages (from transformers) (2.29.0)\n",
      "Requirement already satisfied: tokenizers!=0.11.3,<0.14,>=0.11.1 in /home/picocreator/anaconda3/envs/rwkv-infctx/lib/python3.11/site-packages (from transformers) (0.13.3)\n",
      "Requirement already satisfied: safetensors>=0.3.1 in /home/picocreator/anaconda3/envs/rwkv-infctx/lib/python3.11/site-packages (from transformers) (0.3.1)\n",
      "Requirement already satisfied: pyarrow>=8.0.0 in /home/picocreator/anaconda3/envs/rwkv-infctx/lib/python3.11/site-packages (from datasets) (12.0.1)\n",
      "Requirement already satisfied: dill<0.3.7,>=0.3.0 in /home/picocreator/anaconda3/envs/rwkv-infctx/lib/python3.11/site-packages (from datasets) (0.3.6)\n",
      "Requirement already satisfied: pandas in /home/picocreator/anaconda3/envs/rwkv-infctx/lib/python3.11/site-packages (from datasets) (2.0.3)\n",
      "Requirement already satisfied: xxhash in /home/picocreator/anaconda3/envs/rwkv-infctx/lib/python3.11/site-packages (from datasets) (3.2.0)\n",
      "Requirement already satisfied: multiprocess in /home/picocreator/anaconda3/envs/rwkv-infctx/lib/python3.11/site-packages (from datasets) (0.70.14)\n",
      "Requirement already satisfied: fsspec[http]>=2021.11.1 in /home/picocreator/anaconda3/envs/rwkv-infctx/lib/python3.11/site-packages (from datasets) (2023.6.0)\n",
      "Requirement already satisfied: aiohttp in /home/picocreator/anaconda3/envs/rwkv-infctx/lib/python3.11/site-packages (from datasets) (3.8.4)\n",
      "Requirement already satisfied: typing-extensions in /home/picocreator/anaconda3/envs/rwkv-infctx/lib/python3.11/site-packages (from torch) (4.6.3)\n",
      "Requirement already satisfied: sympy in /home/picocreator/anaconda3/envs/rwkv-infctx/lib/python3.11/site-packages (from torch) (1.11.1)\n",
      "Requirement already satisfied: networkx in /home/picocreator/anaconda3/envs/rwkv-infctx/lib/python3.11/site-packages (from torch) (2.8.4)\n",
      "Requirement already satisfied: jinja2 in /home/picocreator/anaconda3/envs/rwkv-infctx/lib/python3.11/site-packages (from torch) (3.1.2)\n",
      "Collecting accelerate>=0.20.2 (from transformers)\n",
      "  Downloading accelerate-0.21.0-py3-none-any.whl (244 kB)\n",
      "\u001b[2K     \u001b[90m━━━━━━━━━━━━━━━━━━━━━━━━━━━━━━━━━━━━━━\u001b[0m \u001b[32m244.2/244.2 kB\u001b[0m \u001b[31m13.2 MB/s\u001b[0m eta \u001b[36m0:00:00\u001b[0m\n",
      "\u001b[?25hRequirement already satisfied: psutil in /home/picocreator/anaconda3/envs/rwkv-infctx/lib/python3.11/site-packages (from accelerate>=0.20.2->transformers) (5.9.5)\n",
      "Requirement already satisfied: attrs>=17.3.0 in /home/picocreator/anaconda3/envs/rwkv-infctx/lib/python3.11/site-packages (from aiohttp->datasets) (23.1.0)\n",
      "Requirement already satisfied: charset-normalizer<4.0,>=2.0 in /home/picocreator/anaconda3/envs/rwkv-infctx/lib/python3.11/site-packages (from aiohttp->datasets) (2.0.4)\n",
      "Requirement already satisfied: multidict<7.0,>=4.5 in /home/picocreator/anaconda3/envs/rwkv-infctx/lib/python3.11/site-packages (from aiohttp->datasets) (6.0.4)\n",
      "Requirement already satisfied: async-timeout<5.0,>=4.0.0a3 in /home/picocreator/anaconda3/envs/rwkv-infctx/lib/python3.11/site-packages (from aiohttp->datasets) (4.0.2)\n",
      "Requirement already satisfied: yarl<2.0,>=1.0 in /home/picocreator/anaconda3/envs/rwkv-infctx/lib/python3.11/site-packages (from aiohttp->datasets) (1.9.2)\n",
      "Requirement already satisfied: frozenlist>=1.1.1 in /home/picocreator/anaconda3/envs/rwkv-infctx/lib/python3.11/site-packages (from aiohttp->datasets) (1.3.3)\n",
      "Requirement already satisfied: aiosignal>=1.1.2 in /home/picocreator/anaconda3/envs/rwkv-infctx/lib/python3.11/site-packages (from aiohttp->datasets) (1.3.1)\n",
      "Requirement already satisfied: idna<4,>=2.5 in /home/picocreator/anaconda3/envs/rwkv-infctx/lib/python3.11/site-packages (from requests->transformers) (3.4)\n",
      "Requirement already satisfied: urllib3<1.27,>=1.21.1 in /home/picocreator/anaconda3/envs/rwkv-infctx/lib/python3.11/site-packages (from requests->transformers) (1.26.16)\n",
      "Requirement already satisfied: certifi>=2017.4.17 in /home/picocreator/anaconda3/envs/rwkv-infctx/lib/python3.11/site-packages (from requests->transformers) (2023.5.7)\n",
      "Requirement already satisfied: MarkupSafe>=2.0 in /home/picocreator/anaconda3/envs/rwkv-infctx/lib/python3.11/site-packages (from jinja2->torch) (2.1.1)\n",
      "Requirement already satisfied: python-dateutil>=2.8.2 in /home/picocreator/anaconda3/envs/rwkv-infctx/lib/python3.11/site-packages (from pandas->datasets) (2.8.2)\n",
      "Requirement already satisfied: pytz>=2020.1 in /home/picocreator/anaconda3/envs/rwkv-infctx/lib/python3.11/site-packages (from pandas->datasets) (2023.3)\n",
      "Requirement already satisfied: tzdata>=2022.1 in /home/picocreator/anaconda3/envs/rwkv-infctx/lib/python3.11/site-packages (from pandas->datasets) (2023.3)\n",
      "Requirement already satisfied: mpmath>=0.19 in /home/picocreator/anaconda3/envs/rwkv-infctx/lib/python3.11/site-packages (from sympy->torch) (1.2.1)\n",
      "Requirement already satisfied: six>=1.5 in /home/picocreator/anaconda3/envs/rwkv-infctx/lib/python3.11/site-packages (from python-dateutil>=2.8.2->pandas->datasets) (1.16.0)\n",
      "Installing collected packages: accelerate\n",
      "Successfully installed accelerate-0.21.0\n"
     ]
    }
   ],
   "source": [
    "# Ensure that the following packages are installed\n",
    "!pip install transformers datasets tqdm torch transformers[torch]"
   ]
  },
  {
   "cell_type": "code",
   "execution_count": 1,
   "metadata": {},
   "outputs": [
    {
     "name": "stderr",
     "output_type": "stream",
     "text": [
      "/home/picocreator/anaconda3/envs/rwkv-infctx/lib/python3.11/site-packages/tqdm/auto.py:21: TqdmWarning: IProgress not found. Please update jupyter and ipywidgets. See https://ipywidgets.readthedocs.io/en/stable/user_install.html\n",
      "  from .autonotebook import tqdm as notebook_tqdm\n"
     ]
    },
    {
     "name": "stdout",
     "output_type": "stream",
     "text": [
      "[2023-07-28 21:27:34,651] [INFO] [real_accelerator.py:110:get_accelerator] Setting ds_accelerator to cuda (auto detect)\n"
     ]
    },
    {
     "name": "stderr",
     "output_type": "stream",
     "text": [
      "Found cached dataset json (/home/picocreator/.cache/huggingface/datasets/codeparrot___json/codeparrot--codeparrot-clean-valid-826c6fd8b27e5523/0.0.0/8bb11242116d547c741b2e8a1f18598ffdd40a1d4f2a2872c7a28b697434bc96)\n",
      "100%|██████████| 1/1 [00:00<00:00, 277.49it/s]\n",
      "Loading cached processed dataset at /home/picocreator/.cache/huggingface/datasets/codeparrot___json/codeparrot--codeparrot-clean-valid-826c6fd8b27e5523/0.0.0/8bb11242116d547c741b2e8a1f18598ffdd40a1d4f2a2872c7a28b697434bc96/cache-2227d9c9dce343a5.arrow\n"
     ]
    },
    {
     "data": {
      "text/html": [
       "\n",
       "    <div>\n",
       "      \n",
       "      <progress value='203' max='7672' style='width:300px; height:20px; vertical-align: middle;'></progress>\n",
       "      [ 203/7672 03:58 < 2:26:57, 0.85 it/s]\n",
       "    </div>\n",
       "    "
      ],
      "text/plain": [
       "<IPython.core.display.HTML object>"
      ]
     },
     "metadata": {},
     "output_type": "display_data"
    }
   ],
   "source": [
    "from transformers import AutoModelForCausalLM, AutoTokenizer, Trainer, default_data_collator \n",
    "from datasets import load_dataset\n",
    "import torch\n",
    "\n",
    "# Load model and tokenizer\n",
    "tokenizer = AutoTokenizer.from_pretrained('codeparrot/codeparrot', use_fast=True)\n",
    "tokenizer.pad_token = tokenizer.bos_token\n",
    "model = AutoModelForCausalLM.from_pretrained('codeparrot/codeparrot').to(\"cuda\")\n",
    "\n",
    "# Load 'codeparrot/codeparrot-clean-valid' Dataset\n",
    "dataset = load_dataset('codeparrot/codeparrot-clean-valid')\n",
    "\n",
    "def tokenize_function(examples):\n",
    "    return tokenizer(examples[\"content\"], truncation=True, max_length=1024, padding='max_length', return_attention_mask=True) \n",
    "\n",
    "valid_dataset = dataset.map(tokenize_function, batched=True, remove_columns=[\"content\"])\n",
    "valid_dataset.set_format(type='torch', columns=['input_ids', 'attention_mask'])\n",
    "\n",
    "# Set data_collator\n",
    "data_collator = default_data_collator  \n",
    "\n",
    "# Initializing Trainer\n",
    "trainer = Trainer(\n",
    "    model=model,\n",
    "    data_collator=data_collator,\n",
    "    tokenizer=tokenizer\n",
    ")\n",
    "\n",
    "# Perform validation \n",
    "output = trainer.evaluate(valid_dataset['train'])    \n",
    "print(f'Validation Loss: {output[\"eval_loss\"]}')"
   ]
  }
 ],
 "metadata": {
  "kernelspec": {
   "display_name": "rwkv-infctx",
   "language": "python",
   "name": "python3"
  },
  "language_info": {
   "codemirror_mode": {
    "name": "ipython",
    "version": 3
   },
   "file_extension": ".py",
   "mimetype": "text/x-python",
   "name": "python",
   "nbconvert_exporter": "python",
   "pygments_lexer": "ipython3",
   "version": "3.11.4"
  },
  "orig_nbformat": 4
 },
 "nbformat": 4,
 "nbformat_minor": 2
}
