{
 "cells": [
  {
   "cell_type": "markdown",
   "metadata": {},
   "source": [
    "# Noisy 1B5 (Finetune Training)\n",
    "We will be finetuning a 1B5 model, and intentionally overtrain it.\n",
    "This is to measure how the introduction of a noisy state will impact train.\n",
    "\n",
    "The goal of this experiment, is to measure two seperate objective\n",
    "- test for overfitting conditions across multiple epoch\n",
    "- test if overfitting is mitigated with the introduction of a noisy state\n",
    "\n",
    "> This project assumes you have the rwkv-infctx conda env setup, and you are executing in that environment - see the main README.md for the conda env setup steps"
   ]
  },
  {
   "cell_type": "code",
   "execution_count": 2,
   "metadata": {},
   "outputs": [
    {
     "name": "stdout",
     "output_type": "stream",
     "text": [
      "--2023-07-18 15:52:11--  https://huggingface.co/BlinkDL/rwkv-4-pileplus/resolve/main/RWKV-4-PilePlus-1B5-20230520-2942-486Gtokens-ctx4096.pth\n",
      "Resolving huggingface.co (huggingface.co)... 13.224.249.10, 13.224.249.119, 13.224.249.44, ...\n",
      "Connecting to huggingface.co (huggingface.co)|13.224.249.10|:443... connected.\n",
      "HTTP request sent, awaiting response... 302 Found\n",
      "Location: https://cdn-lfs.huggingface.co/repos/a0/d0/a0d028cbd69f2f788f85a9e3b66d39102ab8e09500502ba8b9780cd52652da12/d3ca6ee3a10b4586b2dff826e3c99dbfa28ecaa71596e82e59a1948c38029e40?response-content-disposition=attachment%3B+filename*%3DUTF-8%27%27RWKV-4-PilePlus-1B5-20230520-2942-486Gtokens-ctx4096.pth%3B+filename%3D%22RWKV-4-PilePlus-1B5-20230520-2942-486Gtokens-ctx4096.pth%22%3B&Expires=1689925931&Policy=eyJTdGF0ZW1lbnQiOlt7IkNvbmRpdGlvbiI6eyJEYXRlTGVzc1RoYW4iOnsiQVdTOkVwb2NoVGltZSI6MTY4OTkyNTkzMX19LCJSZXNvdXJjZSI6Imh0dHBzOi8vY2RuLWxmcy5odWdnaW5nZmFjZS5jby9yZXBvcy9hMC9kMC9hMGQwMjhjYmQ2OWYyZjc4OGY4NWE5ZTNiNjZkMzkxMDJhYjhlMDk1MDA1MDJiYThiOTc4MGNkNTI2NTJkYTEyL2QzY2E2ZWUzYTEwYjQ1ODZiMmRmZjgyNmUzYzk5ZGJmYTI4ZWNhYTcxNTk2ZTgyZTU5YTE5NDhjMzgwMjllNDA%7EcmVzcG9uc2UtY29udGVudC1kaXNwb3NpdGlvbj0qIn1dfQ__&Signature=WmhhOgFNbnfV4FratHaj6YcfjDwsNRNOu2vNAt9yn5t2FPC4Yjs2GngsXC9FhMn5-2SRNPjrid7UV1WK6b0%7EVdXravkh7B3pYYoSHoq7Yqs5cWNyF0KZleMt-uEiZ2nlx9WA6Lzf%7E1rPyuJHqjXUN1%7Eqr1hm0VHScvyTHko4KSCjkOuOJe85t2eRU0oeU7aPLHMKAiZQmHyLMFP5mp2ZXF0uz42HQUBrUhVps5U3TaCKfJ2DxiuLzgagZOuJMecE8U8Zn1ybU3WjdXXK43YKbnnXLoyo-V6tDlCN1atmdmUxHGr%7E3TExozNDzslx62YBXYFFZLOmVg9WaGD10fWAIw__&Key-Pair-Id=KVTP0A1DKRTAX [following]\n",
      "--2023-07-18 15:52:11--  https://cdn-lfs.huggingface.co/repos/a0/d0/a0d028cbd69f2f788f85a9e3b66d39102ab8e09500502ba8b9780cd52652da12/d3ca6ee3a10b4586b2dff826e3c99dbfa28ecaa71596e82e59a1948c38029e40?response-content-disposition=attachment%3B+filename*%3DUTF-8%27%27RWKV-4-PilePlus-1B5-20230520-2942-486Gtokens-ctx4096.pth%3B+filename%3D%22RWKV-4-PilePlus-1B5-20230520-2942-486Gtokens-ctx4096.pth%22%3B&Expires=1689925931&Policy=eyJTdGF0ZW1lbnQiOlt7IkNvbmRpdGlvbiI6eyJEYXRlTGVzc1RoYW4iOnsiQVdTOkVwb2NoVGltZSI6MTY4OTkyNTkzMX19LCJSZXNvdXJjZSI6Imh0dHBzOi8vY2RuLWxmcy5odWdnaW5nZmFjZS5jby9yZXBvcy9hMC9kMC9hMGQwMjhjYmQ2OWYyZjc4OGY4NWE5ZTNiNjZkMzkxMDJhYjhlMDk1MDA1MDJiYThiOTc4MGNkNTI2NTJkYTEyL2QzY2E2ZWUzYTEwYjQ1ODZiMmRmZjgyNmUzYzk5ZGJmYTI4ZWNhYTcxNTk2ZTgyZTU5YTE5NDhjMzgwMjllNDA%7EcmVzcG9uc2UtY29udGVudC1kaXNwb3NpdGlvbj0qIn1dfQ__&Signature=WmhhOgFNbnfV4FratHaj6YcfjDwsNRNOu2vNAt9yn5t2FPC4Yjs2GngsXC9FhMn5-2SRNPjrid7UV1WK6b0%7EVdXravkh7B3pYYoSHoq7Yqs5cWNyF0KZleMt-uEiZ2nlx9WA6Lzf%7E1rPyuJHqjXUN1%7Eqr1hm0VHScvyTHko4KSCjkOuOJe85t2eRU0oeU7aPLHMKAiZQmHyLMFP5mp2ZXF0uz42HQUBrUhVps5U3TaCKfJ2DxiuLzgagZOuJMecE8U8Zn1ybU3WjdXXK43YKbnnXLoyo-V6tDlCN1atmdmUxHGr%7E3TExozNDzslx62YBXYFFZLOmVg9WaGD10fWAIw__&Key-Pair-Id=KVTP0A1DKRTAX\n",
      "Resolving cdn-lfs.huggingface.co (cdn-lfs.huggingface.co)... 18.155.68.128, 18.155.68.73, 18.155.68.94, ...\n",
      "Connecting to cdn-lfs.huggingface.co (cdn-lfs.huggingface.co)|18.155.68.128|:443... connected.\n",
      "HTTP request sent, awaiting response... 200 OK\n",
      "Length: 3030279853 (2.8G) [binary/octet-stream]\n",
      "Saving to: ‘RWKV-4-PilePlus-1B5-20230520-2942-486Gtokens-ctx4096.pth’\n",
      "\n",
      "RWKV-4-PilePlus-1B5 100%[===================>]   2.82G  11.2MB/s    in 3m 45s  \n",
      "\n",
      "2023-07-18 15:55:57 (12.8 MB/s) - ‘RWKV-4-PilePlus-1B5-20230520-2942-486Gtokens-ctx4096.pth’ saved [3030279853/3030279853]\n",
      "\n"
     ]
    }
   ],
   "source": [
    "# First lets get the RWKV base model which we will be finetuning\n",
    "!mkdir -p ../../../model/\n",
    "!mkdir -p ../../../datapath/\n",
    "!mkdir -p ../../../checkpoint/\n",
    "!cd ../../../model/ && wget https://huggingface.co/BlinkDL/rwkv-4-pileplus/resolve/main/RWKV-4-PilePlus-1B5-20230520-2942-486Gtokens-ctx4096.pth"
   ]
  },
  {
   "cell_type": "code",
   "execution_count": 3,
   "metadata": {},
   "outputs": [
    {
     "name": "stdout",
     "output_type": "stream",
     "text": [
      "DEEPSPEED_STRAT: deepspeed_stage_2_offload\n",
      "ENABLE_WANDB: True\n",
      "GPU_DEVICES: auto\n",
      "NOTEBOOK_DIR: /home/picocreator/rwkv-proj/picocreator-noise-experiment/notebook/experiment/noisy-training\n",
      "TRAINER_DIR: /home/picocreator/rwkv-proj/picocreator-noise-experiment/RWKV-v4neo\n",
      "PROJECT_DIR: /home/picocreator/rwkv-proj/picocreator-noise-experiment\n"
     ]
    }
   ],
   "source": [
    "DEEPSPEED_STRAT=\"deepspeed_stage_2_offload\"\n",
    "GPU_DEVICES=\"auto\"\n",
    "ENABLE_WANDB=True\n",
    "WANDB_PREFIX=\"MultiEpoch-1B5\"\n",
    "\n",
    "print(\"DEEPSPEED_STRAT:\", DEEPSPEED_STRAT)\n",
    "print(\"ENABLE_WANDB:\", ENABLE_WANDB)\n",
    "print(\"GPU_DEVICES:\", GPU_DEVICES)\n",
    "\n",
    "if ENABLE_WANDB:\n",
    "    WANDB_MODE=\"online\"\n",
    "else:\n",
    "    WANDB_MODE=\"disabled\"\n",
    "\n",
    "# Computing the notebook, and various paths\n",
    "import os\n",
    "NOTEBOOK_DIR=os.path.dirname(os.path.abspath(\"__file__\"))\n",
    "PROJECT_DIR=os.path.abspath(os.path.join(NOTEBOOK_DIR, \"../../../\"))\n",
    "TRAINER_DIR=os.path.abspath(os.path.join(PROJECT_DIR, \"./RWKV-v4neo/\"))\n",
    "\n",
    "print(\"NOTEBOOK_DIR:\", NOTEBOOK_DIR)\n",
    "print(\"TRAINER_DIR:\", TRAINER_DIR)\n",
    "print(\"PROJECT_DIR:\", PROJECT_DIR)"
   ]
  },
  {
   "cell_type": "code",
   "execution_count": 4,
   "metadata": {},
   "outputs": [
    {
     "name": "stdout",
     "output_type": "stream",
     "text": [
      "Found cached dataset parquet (/home/picocreator/.cache/huggingface/datasets/c-s-ale___parquet/c-s-ale--dolly-15k-instruction-alpaca-format-9dfbb23260d63d9d/0.0.0/14a00e99c0d15a23649d0db8944380ac81082d4b021f398733dd84f3a6c569a7)\n",
      "100%|█████████████████████████████████████████████| 1/1 [00:00<00:00, 41.58it/s]\n",
      "                                                                                \r"
     ]
    }
   ],
   "source": [
    "# Lets preload the requried dataset (enwiki_100k)\n",
    "!cd \"{TRAINER_DIR}\" && \\\n",
    "    python3 preload_dataset.py \"{NOTEBOOK_DIR}/MultiEpoch-1B5-instruct-baseline.yaml\""
   ]
  },
  {
   "cell_type": "markdown",
   "metadata": {},
   "source": [
    "## Stage 1 : Baseline model training"
   ]
  },
  {
   "cell_type": "code",
   "execution_count": null,
   "metadata": {},
   "outputs": [],
   "source": [
    "# Start the foundation model training\n",
    "!cd \"{TRAINER_DIR}\" && \\\n",
    "    export WANDB_MODE=\"{WANDB_MODE}\" && \\\n",
    "    python new_train.py fit \\\n",
    "        -c \"{NOTEBOOK_DIR}/MultiEpoch-1B5-instruct-baseline.yaml\" \\\n",
    "        --trainer.logger.init_args.name=\"{WANDB_PREFIX} - Instruct Tune Baseline (ctx=4096, {DEEPSPEED_STRAT})\" \\\n",
    "        --trainer.strategy=\"{DEEPSPEED_STRAT}\" \\\n",
    "        --trainer.devices=\"{GPU_DEVICES}\" "
   ]
  },
  {
   "cell_type": "code",
   "execution_count": null,
   "metadata": {},
   "outputs": [
    {
     "name": "stdout",
     "output_type": "stream",
     "text": [
      "Setting ds_accelerator to cuda (auto detect)\n",
      "Processing zero checkpoint '../checkpoint/MultiEpoch-1B4-Baseline/last.ckpt/checkpoint'\n",
      "Detected checkpoint of type zero stage ZeroStageEnum.optimizer_states, world_size: 8\n",
      "Parsing checkpoint created by deepspeed==0.9.3\n",
      "Reconstructed fp32 state dict with 1734 params 1412675584 elements\n",
      "Saving fp32 state dict to ../model/MultiEpoch-1B4-Baseline.pth\n",
      "-rw-r--r-- 1 root root 5.3G Jul 18 13:12 ../model/MultiEpoch-1B4-Baseline.pth\n"
     ]
    }
   ],
   "source": [
    "# Lets export the model from the checkpoint\n",
    "!cd \"{TRAINER_DIR}\" && \\\n",
    "    python export_checkpoint.py \"../checkpoint/MultiEpoch-1B5-Baseline/last.ckpt\" \"../model/MultiEpoch-1B5-Baseline.pth\"\n",
    "!cd \"{TRAINER_DIR}\" && ls -alh \"../model/MultiEpoch-1B5-Baseline.pth\""
   ]
  },
  {
   "cell_type": "markdown",
   "metadata": {},
   "source": [
    "## Stage 2 : Noisy model training"
   ]
  },
  {
   "cell_type": "code",
   "execution_count": null,
   "metadata": {},
   "outputs": [],
   "source": [
    "# Start the foundation model training\n",
    "!cd \"{TRAINER_DIR}\" && \\\n",
    "    export WANDB_MODE=\"{WANDB_MODE}\" && \\\n",
    "    python new_train.py fit \\\n",
    "        -c \"{NOTEBOOK_DIR}/MultiEpoch-1B5-instruct-noisy.yaml\" \\\n",
    "        --trainer.logger.init_args.name=\"{WANDB_PREFIX} - Instruct Tune Noisy (ctx=4096, {DEEPSPEED_STRAT})\" \\\n",
    "        --trainer.strategy=\"{DEEPSPEED_STRAT}\" \\\n",
    "        --trainer.devices=\"{GPU_DEVICES}\" "
   ]
  },
  {
   "cell_type": "code",
   "execution_count": null,
   "metadata": {},
   "outputs": [
    {
     "name": "stdout",
     "output_type": "stream",
     "text": [
      "Setting ds_accelerator to cuda (auto detect)\n",
      "Processing zero checkpoint '../checkpoint/MultiEpoch-1B4-Baseline/last.ckpt/checkpoint'\n",
      "Detected checkpoint of type zero stage ZeroStageEnum.optimizer_states, world_size: 8\n",
      "Parsing checkpoint created by deepspeed==0.9.3\n",
      "Reconstructed fp32 state dict with 1734 params 1412675584 elements\n",
      "Saving fp32 state dict to ../model/MultiEpoch-1B4-Baseline.pth\n",
      "-rw-r--r-- 1 root root 5.3G Jul 18 13:12 ../model/MultiEpoch-1B4-Baseline.pth\n"
     ]
    }
   ],
   "source": [
    "# Lets export the model from the checkpoint\n",
    "!cd \"{TRAINER_DIR}\" && \\\n",
    "    python export_checkpoint.py \"../checkpoint/MultiEpoch-1B5-Noisy/last.ckpt\" \"../model/MultiEpoch-1B5-Noisy.pth\"\n",
    "!cd \"{TRAINER_DIR}\" && ls -alh \"../model/MultiEpoch-1B5-Noisy.pth\""
   ]
  }
 ],
 "metadata": {
  "kernelspec": {
   "display_name": "rwkv-infctx",
   "language": "python",
   "name": "python3"
  },
  "language_info": {
   "codemirror_mode": {
    "name": "ipython",
    "version": 3
   },
   "file_extension": ".py",
   "mimetype": "text/x-python",
   "name": "python",
   "nbconvert_exporter": "python",
   "pygments_lexer": "ipython3",
   "version": "3.11.4"
  },
  "orig_nbformat": 4
 },
 "nbformat": 4,
 "nbformat_minor": 2
}
