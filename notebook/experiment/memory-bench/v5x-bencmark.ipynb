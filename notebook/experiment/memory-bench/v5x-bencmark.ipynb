{
 "cells": [
  {
   "cell_type": "markdown",
   "metadata": {},
   "source": [
    "## V5X specific benchmark\n",
    "\n",
    "The following is bencmarks specific for v5x runs, using experimental code"
   ]
  },
  {
   "cell_type": "code",
   "execution_count": 2,
   "metadata": {},
   "outputs": [
    {
     "name": "stdout",
     "output_type": "stream",
     "text": [
      "--2023-07-20 00:31:20--  https://huggingface.co/picocreator/memory-size-experiment-for-rwkv/resolve/main/TokenShift-A-Tune3.pth\n",
      "Resolving huggingface.co (huggingface.co)... 13.33.33.110, 13.33.33.55, 13.33.33.20, ...\n",
      "Connecting to huggingface.co (huggingface.co)|13.33.33.110|:443... connected.\n",
      "HTTP request sent, awaiting response... 302 Found\n",
      "Location: https://cdn-lfs.huggingface.co/repos/cb/ef/cbef09abb2634a3375b28868bffa285226dfeabedec89b28c2fb302221164d66/abc9e00c565092e71e0111fc22284e4a34bb9c6c039389f4148d55aa9aeb3611?response-content-disposition=attachment%3B+filename*%3DUTF-8%27%27TokenShift-A-Tune3.pth%3B+filename%3D%22TokenShift-A-Tune3.pth%22%3B&Expires=1690043480&Policy=eyJTdGF0ZW1lbnQiOlt7IkNvbmRpdGlvbiI6eyJEYXRlTGVzc1RoYW4iOnsiQVdTOkVwb2NoVGltZSI6MTY5MDA0MzQ4MH19LCJSZXNvdXJjZSI6Imh0dHBzOi8vY2RuLWxmcy5odWdnaW5nZmFjZS5jby9yZXBvcy9jYi9lZi9jYmVmMDlhYmIyNjM0YTMzNzViMjg4NjhiZmZhMjg1MjI2ZGZlYWJlZGVjODliMjhjMmZiMzAyMjIxMTY0ZDY2L2FiYzllMDBjNTY1MDkyZTcxZTAxMTFmYzIyMjg0ZTRhMzRiYjljNmMwMzkzODlmNDE0OGQ1NWFhOWFlYjM2MTE%7EcmVzcG9uc2UtY29udGVudC1kaXNwb3NpdGlvbj0qIn1dfQ__&Signature=WRlzWXsrM-ElDdJm4yqH4eLcEBZ1mA6dxb-PRSmyqWjEuqRmks3qpkeg9fozxnLIAKZCdGEbI27gRaU618%7EQw0LGFkP4kztJQrNf15W-Q5AL1Y7CozzfolN-xZCHBNx-IO1VHHIdb40CgGBm3lbzuCak88%7ExMCoftlk6Dv6IUfL3OJ4Zi-0HoFm3LRIf3b3C5DjTiZu3Rq6fCI0dUEBxQFQvpQKDIdq8s32apT8rfsT-ixXYD-mfzUJ9YXcKAg0KCMruUFkZaYtvdxDJ9bcV0hTsmUiFvpwo--KxN04AhScFXYOOom--8XnJ1mPvP1mEaSj8DF0M6omosTf4Dj%7EsRA__&Key-Pair-Id=KVTP0A1DKRTAX [following]\n",
      "--2023-07-20 00:31:20--  https://cdn-lfs.huggingface.co/repos/cb/ef/cbef09abb2634a3375b28868bffa285226dfeabedec89b28c2fb302221164d66/abc9e00c565092e71e0111fc22284e4a34bb9c6c039389f4148d55aa9aeb3611?response-content-disposition=attachment%3B+filename*%3DUTF-8%27%27TokenShift-A-Tune3.pth%3B+filename%3D%22TokenShift-A-Tune3.pth%22%3B&Expires=1690043480&Policy=eyJTdGF0ZW1lbnQiOlt7IkNvbmRpdGlvbiI6eyJEYXRlTGVzc1RoYW4iOnsiQVdTOkVwb2NoVGltZSI6MTY5MDA0MzQ4MH19LCJSZXNvdXJjZSI6Imh0dHBzOi8vY2RuLWxmcy5odWdnaW5nZmFjZS5jby9yZXBvcy9jYi9lZi9jYmVmMDlhYmIyNjM0YTMzNzViMjg4NjhiZmZhMjg1MjI2ZGZlYWJlZGVjODliMjhjMmZiMzAyMjIxMTY0ZDY2L2FiYzllMDBjNTY1MDkyZTcxZTAxMTFmYzIyMjg0ZTRhMzRiYjljNmMwMzkzODlmNDE0OGQ1NWFhOWFlYjM2MTE%7EcmVzcG9uc2UtY29udGVudC1kaXNwb3NpdGlvbj0qIn1dfQ__&Signature=WRlzWXsrM-ElDdJm4yqH4eLcEBZ1mA6dxb-PRSmyqWjEuqRmks3qpkeg9fozxnLIAKZCdGEbI27gRaU618%7EQw0LGFkP4kztJQrNf15W-Q5AL1Y7CozzfolN-xZCHBNx-IO1VHHIdb40CgGBm3lbzuCak88%7ExMCoftlk6Dv6IUfL3OJ4Zi-0HoFm3LRIf3b3C5DjTiZu3Rq6fCI0dUEBxQFQvpQKDIdq8s32apT8rfsT-ixXYD-mfzUJ9YXcKAg0KCMruUFkZaYtvdxDJ9bcV0hTsmUiFvpwo--KxN04AhScFXYOOom--8XnJ1mPvP1mEaSj8DF0M6omosTf4Dj%7EsRA__&Key-Pair-Id=KVTP0A1DKRTAX\n",
      "Resolving cdn-lfs.huggingface.co (cdn-lfs.huggingface.co)... 18.155.68.98, 18.155.68.128, 18.155.68.94, ...\n",
      "Connecting to cdn-lfs.huggingface.co (cdn-lfs.huggingface.co)|18.155.68.98|:443... connected.\n",
      "HTTP request sent, awaiting response... 200 OK\n",
      "Length: 5120535962 (4.8G) [binary/octet-stream]\n",
      "Saving to: ‘TokenShift-A-Tune3.pth’\n",
      "\n",
      "TokenShift-A-Tune3. 100%[===================>]   4.77G  10.2MB/s    in 17m 32s \n",
      "\n",
      "2023-07-20 00:48:53 (4.64 MB/s) - ‘TokenShift-A-Tune3.pth’ saved [5120535962/5120535962]\n",
      "\n"
     ]
    }
   ],
   "source": [
    "# Lets download the custom models\n",
    "!mkdir -p ../../../model/\n",
    "!cd ../../../model/ && wget \"https://huggingface.co/picocreator/memory-size-experiment-for-rwkv/resolve/main/TokenShift-A-Tune3.pth\""
   ]
  },
  {
   "cell_type": "code",
   "execution_count": 3,
   "metadata": {},
   "outputs": [
    {
     "name": "stdout",
     "output_type": "stream",
     "text": [
      "L12-D2560-init.pth  TokenShift-A-Tune1.pth  TokenShift-A-Tune3.pth\n"
     ]
    }
   ],
   "source": [
    "!ls ../../../model/"
   ]
  },
  {
   "cell_type": "code",
   "execution_count": 7,
   "metadata": {},
   "outputs": [
    {
     "name": "stdout",
     "output_type": "stream",
     "text": [
      "[2023-07-20 01:32:42,052] [INFO] [real_accelerator.py:110:get_accelerator] Setting ds_accelerator to cuda (auto detect)\n",
      "[RWKV.model] Running RWKV model using 'torch-jit' with torch '2.0.1'\n",
      "Using /home/picocreator/.cache/torch_extensions/py311_cu117 as PyTorch extensions root...\n",
      "Detected CUDA files, patching ldflags\n",
      "Emitting ninja build file /home/picocreator/.cache/torch_extensions/py311_cu117/wkv_1024_bf16/build.ninja...\n",
      "Building extension module wkv_1024_bf16...\n",
      "Allowing ninja to set a default number of workers... (overridable by setting the environment variable MAX_JOBS=N)\n",
      "ninja: no work to do.\n",
      "Loading extension module wkv_1024_bf16...\n",
      "###\n",
      "### Model validation start ###\n",
      "###\n",
      "## Model validation for 5 tokens : 100.0% similarity, with 5 matched token, and 0 token mismatch\n",
      "## Model validation for 10 tokens : 100.0% similarity, with 10 matched token, and 0 token mismatch\n",
      "## Model validation for 15 tokens : 100.0% similarity, with 15 matched token, and 0 token mismatch\n",
      "## Model validation for 20 tokens : 100.0% similarity, with 20 matched token, and 0 token mismatch\n",
      "## Model validation for 25 tokens : 100.0% similarity, with 25 matched token, and 0 token mismatch\n",
      "## Model validation for 30 tokens : 100.0% similarity, with 30 matched token, and 0 token mismatch\n",
      "## Model validation for 35 tokens : 100.0% similarity, with 35 matched token, and 0 token mismatch\n",
      "## Model validation for 40 tokens : 100.0% similarity, with 40 matched token, and 0 token mismatch\n",
      "## Model validation for 45 tokens : 100.0% similarity, with 45 matched token, and 0 token mismatch\n",
      "## Model validation for 50 tokens : 100.0% similarity, with 50 matched token, and 0 token mismatch\n",
      "## Model validation for 55 tokens : 100.0% similarity, with 55 matched token, and 0 token mismatch\n",
      "## Model validation for 60 tokens : 100.0% similarity, with 60 matched token, and 0 token mismatch\n",
      "## Model validation for 65 tokens : 100.0% similarity, with 65 matched token, and 0 token mismatch\n",
      "## Model validation for 70 tokens : 98.57142857142858% similarity, with 69 matched token, and 1 token mismatch\n",
      "## Model validation for 75 tokens : 98.66666666666667% similarity, with 74 matched token, and 1 token mismatch\n",
      "## Model validation for 80 tokens : 97.5% similarity, with 78 matched token, and 2 token mismatch\n",
      "## Model validation for 85 tokens : 96.47058823529412% similarity, with 82 matched token, and 3 token mismatch\n",
      "## Model validation for 90 tokens : 98.88888888888889% similarity, with 89 matched token, and 1 token mismatch\n",
      "## Model validation for 95 tokens : 98.94736842105263% similarity, with 94 matched token, and 1 token mismatch\n",
      "## Model validation for 100 tokens : 99.0% similarity, with 99 matched token, and 1 token mismatch\n",
      "## Model validation for 105 tokens : 98.09523809523809% similarity, with 103 matched token, and 2 token mismatch\n",
      "## Model validation for 110 tokens : 98.18181818181819% similarity, with 108 matched token, and 2 token mismatch\n",
      "## Model validation for 115 tokens : 97.3913043478261% similarity, with 112 matched token, and 3 token mismatch\n",
      "## Model validation for 120 tokens : 96.66666666666667% similarity, with 116 matched token, and 4 token mismatch\n",
      "## Model validation for 125 tokens : 96.0% similarity, with 120 matched token, and 5 token mismatch\n",
      "## Model validation for 130 tokens : 96.15384615384616% similarity, with 125 matched token, and 5 token mismatch\n",
      "## Model validation for 135 tokens : 96.29629629629629% similarity, with 130 matched token, and 5 token mismatch\n",
      "## Model validation for 140 tokens : 96.42857142857143% similarity, with 135 matched token, and 5 token mismatch\n",
      "## Model validation for 145 tokens : 96.55172413793103% similarity, with 140 matched token, and 5 token mismatch\n",
      "## Model validation for 150 tokens : 95.33333333333334% similarity, with 143 matched token, and 7 token mismatch\n",
      "## Model validation for 160 tokens : 92.5% similarity, with 148 matched token, and 12 token mismatch\n",
      "## Model validation for 170 tokens : 94.70588235294117% similarity, with 161 matched token, and 9 token mismatch\n",
      "## Model validation for 180 tokens : 91.66666666666666% similarity, with 165 matched token, and 15 token mismatch\n",
      "## Model validation for 190 tokens : 91.57894736842105% similarity, with 174 matched token, and 16 token mismatch\n",
      "## Model validation for 200 tokens : 91.0% similarity, with 182 matched token, and 18 token mismatch\n",
      "## Model validation for 210 tokens : 90.47619047619048% similarity, with 190 matched token, and 20 token mismatch\n",
      "## Model validation for 220 tokens : 84.54545454545455% similarity, with 186 matched token, and 34 token mismatch\n",
      "## Model validation for 230 tokens : 85.21739130434783% similarity, with 196 matched token, and 34 token mismatch\n",
      "## Model validation for 240 tokens : 82.08333333333333% similarity, with 197 matched token, and 43 token mismatch\n",
      "## Model validation for 250 tokens : 79.60000000000001% similarity, with 199 matched token, and 51 token mismatch\n",
      "## Model validation for 260 tokens : 78.84615384615384% similarity, with 205 matched token, and 55 token mismatch\n",
      "## Model validation for 270 tokens : 73.33333333333333% similarity, with 198 matched token, and 72 token mismatch\n",
      "## Model validation for 280 tokens : 72.14285714285714% similarity, with 202 matched token, and 78 token mismatch\n",
      "## Model validation for 290 tokens : 68.27586206896552% similarity, with 198 matched token, and 92 token mismatch\n",
      "## Model validation for 300 tokens : 66.33333333333333% similarity, with 199 matched token, and 101 token mismatch\n",
      "## Model validation for 325 tokens : 61.53846153846154% similarity, with 200 matched token, and 125 token mismatch\n",
      "## Model validation for 350 tokens : 56.57142857142857% similarity, with 198 matched token, and 152 token mismatch\n",
      "## Model validation for 375 tokens : 51.733333333333334% similarity, with 194 matched token, and 181 token mismatch\n",
      "## Model validation for 400 tokens : 47.0% similarity, with 188 matched token, and 212 token mismatch\n",
      "## Model validation for 425 tokens : 44.0% similarity, with 187 matched token, and 238 token mismatch\n",
      "## Model validation for 450 tokens : 39.77777777777778% similarity, with 179 matched token, and 271 token mismatch\n",
      "## Model validation for 475 tokens : 34.94736842105263% similarity, with 166 matched token, and 309 token mismatch\n",
      "## Model validation for 500 tokens : 29.799999999999997% similarity, with 149 matched token, and 351 token mismatch\n",
      "## Model validation for 525 tokens : 24.761904761904763% similarity, with 130 matched token, and 395 token mismatch\n",
      "## Model validation for 550 tokens : 21.818181818181817% similarity, with 120 matched token, and 430 token mismatch\n",
      "## Model validation for 575 tokens : 18.956521739130437% similarity, with 109 matched token, and 466 token mismatch\n",
      "## Model validation for 600 tokens : 17.166666666666668% similarity, with 103 matched token, and 497 token mismatch\n",
      "## Model validation for 625 tokens : 15.040000000000001% similarity, with 94 matched token, and 531 token mismatch\n",
      "## Model validation for 650 tokens : 13.692307692307693% similarity, with 89 matched token, and 561 token mismatch\n",
      "## Model validation for 675 tokens : 12.592592592592592% similarity, with 85 matched token, and 590 token mismatch\n",
      "## Model validation for 700 tokens : 11.571428571428571% similarity, with 81 matched token, and 619 token mismatch\n",
      "## Model validation for 750 tokens : 10.0% similarity, with 75 matched token, and 675 token mismatch\n",
      "## Model validation for 800 tokens : 8.625% similarity, with 69 matched token, and 731 token mismatch\n",
      "## Model validation for 850 tokens : 7.529411764705881% similarity, with 64 matched token, and 786 token mismatch\n",
      "## Model validation for 900 tokens : 7.000000000000001% similarity, with 63 matched token, and 837 token mismatch\n",
      "## Model validation for 950 tokens : 6.631578947368421% similarity, with 63 matched token, and 887 token mismatch\n",
      "## Model validation for 1000 tokens : 6.2% similarity, with 62 matched token, and 938 token mismatch\n",
      "## Finished baseline model to eval output predictive matching (aka 0 memory?), for 1000 tokens\n"
     ]
    }
   ],
   "source": [
    "# Memory benchmarking of the Echo-B-1B4-Tune3.pth\n",
    "!python3 ./memory_script/eval_model_memory_guided.py \"../../../model/TokenShift-A-Tune3.pth\" \"./logs/TokenShift-A-Tune3.csv\""
   ]
  },
  {
   "cell_type": "code",
   "execution_count": 8,
   "metadata": {},
   "outputs": [
    {
     "name": "stdout",
     "output_type": "stream",
     "text": [
      "--2023-07-20 04:24:49--  https://huggingface.co/picocreator/memory-size-experiment-for-rwkv/resolve/main/TokenShift-A-Tune4.pth\n",
      "Resolving huggingface.co (huggingface.co)... 13.33.33.110, 13.33.33.55, 13.33.33.20, ...\n",
      "Connecting to huggingface.co (huggingface.co)|13.33.33.110|:443... connected.\n",
      "HTTP request sent, awaiting response... 302 Found\n",
      "Location: https://cdn-lfs.huggingface.co/repos/cb/ef/cbef09abb2634a3375b28868bffa285226dfeabedec89b28c2fb302221164d66/7ea89411bed9e13cb744b90d5dcab963ad3c872e2da3fa5bb300c7099bf8da24?response-content-disposition=attachment%3B+filename*%3DUTF-8%27%27TokenShift-A-Tune4.pth%3B+filename%3D%22TokenShift-A-Tune4.pth%22%3B&Expires=1690057489&Policy=eyJTdGF0ZW1lbnQiOlt7IkNvbmRpdGlvbiI6eyJEYXRlTGVzc1RoYW4iOnsiQVdTOkVwb2NoVGltZSI6MTY5MDA1NzQ4OX19LCJSZXNvdXJjZSI6Imh0dHBzOi8vY2RuLWxmcy5odWdnaW5nZmFjZS5jby9yZXBvcy9jYi9lZi9jYmVmMDlhYmIyNjM0YTMzNzViMjg4NjhiZmZhMjg1MjI2ZGZlYWJlZGVjODliMjhjMmZiMzAyMjIxMTY0ZDY2LzdlYTg5NDExYmVkOWUxM2NiNzQ0YjkwZDVkY2FiOTYzYWQzYzg3MmUyZGEzZmE1YmIzMDBjNzA5OWJmOGRhMjQ%7EcmVzcG9uc2UtY29udGVudC1kaXNwb3NpdGlvbj0qIn1dfQ__&Signature=ntrvsoCXrM6mAwW2uw8hAfyGOtHrftHPZKNoWuGd9k4CYOvaUvcPQX03SO8LuE1b2PIVmMhSqMZPyBFfTHVStM1DQUcn0ctWu3N-owSQbwmNy0Vo71iIqE7GftiMHkwKSywVZO1DmqTOUmPXMQoVGmrkTR4YLEZN3dEV9KxdRcl-VZg2ildhO%7ERhD0b5N2Y3o5EDucPmo9AYkCQTI0Nknb-wDZ4b0GAG8kkDZHvqqKDk7Liri2DKiieV4dSqnxCx%7EVNh4dnQFJgEzMPNM3EEHylTwgRo78JQ9FqCNL94VodeEYDeuPo9Ynjz7XMeXkhlY7-LtrKdF3t4Z7LtAtkdcw__&Key-Pair-Id=KVTP0A1DKRTAX [following]\n",
      "--2023-07-20 04:24:49--  https://cdn-lfs.huggingface.co/repos/cb/ef/cbef09abb2634a3375b28868bffa285226dfeabedec89b28c2fb302221164d66/7ea89411bed9e13cb744b90d5dcab963ad3c872e2da3fa5bb300c7099bf8da24?response-content-disposition=attachment%3B+filename*%3DUTF-8%27%27TokenShift-A-Tune4.pth%3B+filename%3D%22TokenShift-A-Tune4.pth%22%3B&Expires=1690057489&Policy=eyJTdGF0ZW1lbnQiOlt7IkNvbmRpdGlvbiI6eyJEYXRlTGVzc1RoYW4iOnsiQVdTOkVwb2NoVGltZSI6MTY5MDA1NzQ4OX19LCJSZXNvdXJjZSI6Imh0dHBzOi8vY2RuLWxmcy5odWdnaW5nZmFjZS5jby9yZXBvcy9jYi9lZi9jYmVmMDlhYmIyNjM0YTMzNzViMjg4NjhiZmZhMjg1MjI2ZGZlYWJlZGVjODliMjhjMmZiMzAyMjIxMTY0ZDY2LzdlYTg5NDExYmVkOWUxM2NiNzQ0YjkwZDVkY2FiOTYzYWQzYzg3MmUyZGEzZmE1YmIzMDBjNzA5OWJmOGRhMjQ%7EcmVzcG9uc2UtY29udGVudC1kaXNwb3NpdGlvbj0qIn1dfQ__&Signature=ntrvsoCXrM6mAwW2uw8hAfyGOtHrftHPZKNoWuGd9k4CYOvaUvcPQX03SO8LuE1b2PIVmMhSqMZPyBFfTHVStM1DQUcn0ctWu3N-owSQbwmNy0Vo71iIqE7GftiMHkwKSywVZO1DmqTOUmPXMQoVGmrkTR4YLEZN3dEV9KxdRcl-VZg2ildhO%7ERhD0b5N2Y3o5EDucPmo9AYkCQTI0Nknb-wDZ4b0GAG8kkDZHvqqKDk7Liri2DKiieV4dSqnxCx%7EVNh4dnQFJgEzMPNM3EEHylTwgRo78JQ9FqCNL94VodeEYDeuPo9Ynjz7XMeXkhlY7-LtrKdF3t4Z7LtAtkdcw__&Key-Pair-Id=KVTP0A1DKRTAX\n",
      "Resolving cdn-lfs.huggingface.co (cdn-lfs.huggingface.co)... 18.155.68.98, 18.155.68.128, 18.155.68.94, ...\n",
      "Connecting to cdn-lfs.huggingface.co (cdn-lfs.huggingface.co)|18.155.68.98|:443... connected.\n",
      "HTTP request sent, awaiting response... 200 OK\n",
      "Length: 5120535962 (4.8G) [binary/octet-stream]\n",
      "Saving to: ‘TokenShift-A-Tune4.pth’\n",
      "\n",
      "TokenShift-A-Tune4. 100%[===================>]   4.77G  13.7MB/s    in 7m 31s  \n",
      "\n",
      "2023-07-20 04:32:22 (10.8 MB/s) - ‘TokenShift-A-Tune4.pth’ saved [5120535962/5120535962]\n",
      "\n"
     ]
    }
   ],
   "source": [
    "# Lets download the custom models\n",
    "!mkdir -p ../../../model/\n",
    "!cd ../../../model/ && wget \"https://huggingface.co/picocreator/memory-size-experiment-for-rwkv/resolve/main/TokenShift-A-Tune4.pth\""
   ]
  },
  {
   "cell_type": "code",
   "execution_count": 9,
   "metadata": {},
   "outputs": [
    {
     "name": "stdout",
     "output_type": "stream",
     "text": [
      "[2023-07-20 04:32:24,669] [INFO] [real_accelerator.py:110:get_accelerator] Setting ds_accelerator to cuda (auto detect)\n",
      "[RWKV.model] Running RWKV model using 'torch-jit' with torch '2.0.1'\n",
      "Using /home/picocreator/.cache/torch_extensions/py311_cu117 as PyTorch extensions root...\n",
      "Detected CUDA files, patching ldflags\n",
      "Emitting ninja build file /home/picocreator/.cache/torch_extensions/py311_cu117/wkv_1024_bf16/build.ninja...\n",
      "Building extension module wkv_1024_bf16...\n",
      "Allowing ninja to set a default number of workers... (overridable by setting the environment variable MAX_JOBS=N)\n",
      "ninja: no work to do.\n",
      "Loading extension module wkv_1024_bf16...\n",
      "###\n",
      "### Model validation start ###\n",
      "###\n",
      "## Model validation for 5 tokens : 100.0% similarity, with 5 matched token, and 0 token mismatch\n",
      "## Model validation for 10 tokens : 100.0% similarity, with 10 matched token, and 0 token mismatch\n",
      "## Model validation for 15 tokens : 100.0% similarity, with 15 matched token, and 0 token mismatch\n",
      "## Model validation for 20 tokens : 100.0% similarity, with 20 matched token, and 0 token mismatch\n",
      "## Model validation for 25 tokens : 96.0% similarity, with 24 matched token, and 1 token mismatch\n",
      "## Model validation for 30 tokens : 100.0% similarity, with 30 matched token, and 0 token mismatch\n",
      "## Model validation for 35 tokens : 100.0% similarity, with 35 matched token, and 0 token mismatch\n",
      "## Model validation for 40 tokens : 97.5% similarity, with 39 matched token, and 1 token mismatch\n",
      "## Model validation for 45 tokens : 97.77777777777777% similarity, with 44 matched token, and 1 token mismatch\n",
      "## Model validation for 50 tokens : 98.0% similarity, with 49 matched token, and 1 token mismatch\n",
      "## Model validation for 55 tokens : 98.18181818181819% similarity, with 54 matched token, and 1 token mismatch\n",
      "## Model validation for 60 tokens : 98.33333333333333% similarity, with 59 matched token, and 1 token mismatch\n",
      "## Model validation for 65 tokens : 96.92307692307692% similarity, with 63 matched token, and 2 token mismatch\n",
      "## Model validation for 70 tokens : 97.14285714285714% similarity, with 68 matched token, and 2 token mismatch\n",
      "## Model validation for 75 tokens : 96.0% similarity, with 72 matched token, and 3 token mismatch\n",
      "## Model validation for 80 tokens : 96.25% similarity, with 77 matched token, and 3 token mismatch\n",
      "## Model validation for 85 tokens : 97.6470588235294% similarity, with 83 matched token, and 2 token mismatch\n",
      "## Model validation for 90 tokens : 95.55555555555556% similarity, with 86 matched token, and 4 token mismatch\n",
      "## Model validation for 95 tokens : 94.73684210526315% similarity, with 90 matched token, and 5 token mismatch\n",
      "## Model validation for 100 tokens : 95.0% similarity, with 95 matched token, and 5 token mismatch\n",
      "## Model validation for 105 tokens : 94.28571428571428% similarity, with 99 matched token, and 6 token mismatch\n",
      "## Model validation for 110 tokens : 94.54545454545455% similarity, with 104 matched token, and 6 token mismatch\n",
      "## Model validation for 115 tokens : 93.04347826086956% similarity, with 107 matched token, and 8 token mismatch\n",
      "## Model validation for 120 tokens : 94.16666666666667% similarity, with 113 matched token, and 7 token mismatch\n",
      "## Model validation for 125 tokens : 94.39999999999999% similarity, with 118 matched token, and 7 token mismatch\n",
      "## Model validation for 130 tokens : 95.38461538461539% similarity, with 124 matched token, and 6 token mismatch\n",
      "## Model validation for 135 tokens : 96.29629629629629% similarity, with 130 matched token, and 5 token mismatch\n",
      "## Model validation for 140 tokens : 95.0% similarity, with 133 matched token, and 7 token mismatch\n",
      "## Model validation for 145 tokens : 95.86206896551724% similarity, with 139 matched token, and 6 token mismatch\n",
      "## Model validation for 150 tokens : 94.66666666666667% similarity, with 142 matched token, and 8 token mismatch\n",
      "## Model validation for 160 tokens : 96.25% similarity, with 154 matched token, and 6 token mismatch\n",
      "## Model validation for 170 tokens : 96.47058823529412% similarity, with 164 matched token, and 6 token mismatch\n",
      "## Model validation for 180 tokens : 95.0% similarity, with 171 matched token, and 9 token mismatch\n",
      "## Model validation for 190 tokens : 95.78947368421052% similarity, with 182 matched token, and 8 token mismatch\n",
      "## Model validation for 200 tokens : 95.5% similarity, with 191 matched token, and 9 token mismatch\n",
      "## Model validation for 210 tokens : 95.23809523809523% similarity, with 200 matched token, and 10 token mismatch\n",
      "## Model validation for 220 tokens : 93.18181818181817% similarity, with 205 matched token, and 15 token mismatch\n",
      "## Model validation for 230 tokens : 93.91304347826087% similarity, with 216 matched token, and 14 token mismatch\n",
      "## Model validation for 240 tokens : 91.66666666666666% similarity, with 220 matched token, and 20 token mismatch\n",
      "## Model validation for 250 tokens : 91.60000000000001% similarity, with 229 matched token, and 21 token mismatch\n",
      "## Model validation for 260 tokens : 90.0% similarity, with 234 matched token, and 26 token mismatch\n",
      "## Model validation for 270 tokens : 90.74074074074075% similarity, with 245 matched token, and 25 token mismatch\n",
      "## Model validation for 280 tokens : 90.71428571428571% similarity, with 254 matched token, and 26 token mismatch\n",
      "## Model validation for 290 tokens : 90.6896551724138% similarity, with 263 matched token, and 27 token mismatch\n",
      "## Model validation for 300 tokens : 91.0% similarity, with 273 matched token, and 27 token mismatch\n",
      "## Model validation for 325 tokens : 88.92307692307693% similarity, with 289 matched token, and 36 token mismatch\n",
      "## Model validation for 350 tokens : 86.57142857142858% similarity, with 303 matched token, and 47 token mismatch\n",
      "## Model validation for 375 tokens : 83.73333333333333% similarity, with 314 matched token, and 61 token mismatch\n",
      "## Model validation for 400 tokens : 81.5% similarity, with 326 matched token, and 74 token mismatch\n",
      "## Model validation for 425 tokens : 77.64705882352942% similarity, with 330 matched token, and 95 token mismatch\n",
      "## Model validation for 450 tokens : 76.0% similarity, with 342 matched token, and 108 token mismatch\n",
      "## Model validation for 475 tokens : 75.1578947368421% similarity, with 357 matched token, and 118 token mismatch\n",
      "## Model validation for 500 tokens : 74.6% similarity, with 373 matched token, and 127 token mismatch\n",
      "## Model validation for 525 tokens : 72.76190476190476% similarity, with 382 matched token, and 143 token mismatch\n",
      "## Model validation for 550 tokens : 71.0909090909091% similarity, with 391 matched token, and 159 token mismatch\n",
      "## Model validation for 575 tokens : 69.3913043478261% similarity, with 399 matched token, and 176 token mismatch\n",
      "## Model validation for 600 tokens : 67.5% similarity, with 405 matched token, and 195 token mismatch\n",
      "## Model validation for 625 tokens : 65.60000000000001% similarity, with 410 matched token, and 215 token mismatch\n",
      "## Model validation for 650 tokens : 63.84615384615384% similarity, with 415 matched token, and 235 token mismatch\n",
      "## Model validation for 675 tokens : 58.96296296296296% similarity, with 398 matched token, and 277 token mismatch\n",
      "## Model validation for 700 tokens : 58.42857142857143% similarity, with 409 matched token, and 291 token mismatch\n",
      "## Model validation for 750 tokens : 53.333333333333336% similarity, with 400 matched token, and 350 token mismatch\n",
      "## Model validation for 800 tokens : 49.5% similarity, with 396 matched token, and 404 token mismatch\n",
      "## Model validation for 850 tokens : 45.64705882352941% similarity, with 388 matched token, and 462 token mismatch\n",
      "## Model validation for 900 tokens : 43.111111111111114% similarity, with 388 matched token, and 512 token mismatch\n",
      "## Model validation for 950 tokens : 42.10526315789473% similarity, with 400 matched token, and 550 token mismatch\n",
      "## Model validation for 1000 tokens : 39.5% similarity, with 395 matched token, and 605 token mismatch\n",
      "## Finished baseline model to eval output predictive matching (aka 0 memory?), for 1000 tokens\n"
     ]
    }
   ],
   "source": [
    "# Memory benchmarking of the Echo-B-1B4-Tune4.pth\n",
    "!python3 ./memory_script/eval_model_memory_guided.py \"../../../model/TokenShift-A-Tune4.pth\" \"./logs/TokenShift-A-Tune4.csv\""
   ]
  }
 ],
 "metadata": {
  "kernelspec": {
   "display_name": "rwkv-infctx",
   "language": "python",
   "name": "python3"
  },
  "language_info": {
   "codemirror_mode": {
    "name": "ipython",
    "version": 3
   },
   "file_extension": ".py",
   "mimetype": "text/x-python",
   "name": "python",
   "nbconvert_exporter": "python",
   "pygments_lexer": "ipython3",
   "version": "3.11.4"
  },
  "orig_nbformat": 4
 },
 "nbformat": 4,
 "nbformat_minor": 2
}
