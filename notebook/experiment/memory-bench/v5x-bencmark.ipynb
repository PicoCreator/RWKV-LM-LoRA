{
 "cells": [
  {
   "cell_type": "markdown",
   "metadata": {},
   "source": [
    "## V5X specific benchmark\n",
    "\n",
    "The following is bencmarks specific for v5x runs, using experimental code"
   ]
  },
  {
   "cell_type": "code",
   "execution_count": 2,
   "metadata": {},
   "outputs": [
    {
     "name": "stdout",
     "output_type": "stream",
     "text": [
      "--2023-07-20 00:31:20--  https://huggingface.co/picocreator/memory-size-experiment-for-rwkv/resolve/main/TokenShift-A-Tune3.pth\n",
      "Resolving huggingface.co (huggingface.co)... 13.33.33.110, 13.33.33.55, 13.33.33.20, ...\n",
      "Connecting to huggingface.co (huggingface.co)|13.33.33.110|:443... connected.\n",
      "HTTP request sent, awaiting response... 302 Found\n",
      "Location: https://cdn-lfs.huggingface.co/repos/cb/ef/cbef09abb2634a3375b28868bffa285226dfeabedec89b28c2fb302221164d66/abc9e00c565092e71e0111fc22284e4a34bb9c6c039389f4148d55aa9aeb3611?response-content-disposition=attachment%3B+filename*%3DUTF-8%27%27TokenShift-A-Tune3.pth%3B+filename%3D%22TokenShift-A-Tune3.pth%22%3B&Expires=1690043480&Policy=eyJTdGF0ZW1lbnQiOlt7IkNvbmRpdGlvbiI6eyJEYXRlTGVzc1RoYW4iOnsiQVdTOkVwb2NoVGltZSI6MTY5MDA0MzQ4MH19LCJSZXNvdXJjZSI6Imh0dHBzOi8vY2RuLWxmcy5odWdnaW5nZmFjZS5jby9yZXBvcy9jYi9lZi9jYmVmMDlhYmIyNjM0YTMzNzViMjg4NjhiZmZhMjg1MjI2ZGZlYWJlZGVjODliMjhjMmZiMzAyMjIxMTY0ZDY2L2FiYzllMDBjNTY1MDkyZTcxZTAxMTFmYzIyMjg0ZTRhMzRiYjljNmMwMzkzODlmNDE0OGQ1NWFhOWFlYjM2MTE%7EcmVzcG9uc2UtY29udGVudC1kaXNwb3NpdGlvbj0qIn1dfQ__&Signature=WRlzWXsrM-ElDdJm4yqH4eLcEBZ1mA6dxb-PRSmyqWjEuqRmks3qpkeg9fozxnLIAKZCdGEbI27gRaU618%7EQw0LGFkP4kztJQrNf15W-Q5AL1Y7CozzfolN-xZCHBNx-IO1VHHIdb40CgGBm3lbzuCak88%7ExMCoftlk6Dv6IUfL3OJ4Zi-0HoFm3LRIf3b3C5DjTiZu3Rq6fCI0dUEBxQFQvpQKDIdq8s32apT8rfsT-ixXYD-mfzUJ9YXcKAg0KCMruUFkZaYtvdxDJ9bcV0hTsmUiFvpwo--KxN04AhScFXYOOom--8XnJ1mPvP1mEaSj8DF0M6omosTf4Dj%7EsRA__&Key-Pair-Id=KVTP0A1DKRTAX [following]\n",
      "--2023-07-20 00:31:20--  https://cdn-lfs.huggingface.co/repos/cb/ef/cbef09abb2634a3375b28868bffa285226dfeabedec89b28c2fb302221164d66/abc9e00c565092e71e0111fc22284e4a34bb9c6c039389f4148d55aa9aeb3611?response-content-disposition=attachment%3B+filename*%3DUTF-8%27%27TokenShift-A-Tune3.pth%3B+filename%3D%22TokenShift-A-Tune3.pth%22%3B&Expires=1690043480&Policy=eyJTdGF0ZW1lbnQiOlt7IkNvbmRpdGlvbiI6eyJEYXRlTGVzc1RoYW4iOnsiQVdTOkVwb2NoVGltZSI6MTY5MDA0MzQ4MH19LCJSZXNvdXJjZSI6Imh0dHBzOi8vY2RuLWxmcy5odWdnaW5nZmFjZS5jby9yZXBvcy9jYi9lZi9jYmVmMDlhYmIyNjM0YTMzNzViMjg4NjhiZmZhMjg1MjI2ZGZlYWJlZGVjODliMjhjMmZiMzAyMjIxMTY0ZDY2L2FiYzllMDBjNTY1MDkyZTcxZTAxMTFmYzIyMjg0ZTRhMzRiYjljNmMwMzkzODlmNDE0OGQ1NWFhOWFlYjM2MTE%7EcmVzcG9uc2UtY29udGVudC1kaXNwb3NpdGlvbj0qIn1dfQ__&Signature=WRlzWXsrM-ElDdJm4yqH4eLcEBZ1mA6dxb-PRSmyqWjEuqRmks3qpkeg9fozxnLIAKZCdGEbI27gRaU618%7EQw0LGFkP4kztJQrNf15W-Q5AL1Y7CozzfolN-xZCHBNx-IO1VHHIdb40CgGBm3lbzuCak88%7ExMCoftlk6Dv6IUfL3OJ4Zi-0HoFm3LRIf3b3C5DjTiZu3Rq6fCI0dUEBxQFQvpQKDIdq8s32apT8rfsT-ixXYD-mfzUJ9YXcKAg0KCMruUFkZaYtvdxDJ9bcV0hTsmUiFvpwo--KxN04AhScFXYOOom--8XnJ1mPvP1mEaSj8DF0M6omosTf4Dj%7EsRA__&Key-Pair-Id=KVTP0A1DKRTAX\n",
      "Resolving cdn-lfs.huggingface.co (cdn-lfs.huggingface.co)... 18.155.68.98, 18.155.68.128, 18.155.68.94, ...\n",
      "Connecting to cdn-lfs.huggingface.co (cdn-lfs.huggingface.co)|18.155.68.98|:443... connected.\n",
      "HTTP request sent, awaiting response... 200 OK\n",
      "Length: 5120535962 (4.8G) [binary/octet-stream]\n",
      "Saving to: ‘TokenShift-A-Tune3.pth’\n",
      "\n",
      "TokenShift-A-Tune3. 100%[===================>]   4.77G  10.2MB/s    in 17m 32s \n",
      "\n",
      "2023-07-20 00:48:53 (4.64 MB/s) - ‘TokenShift-A-Tune3.pth’ saved [5120535962/5120535962]\n",
      "\n"
     ]
    }
   ],
   "source": [
    "# Lets download the custom models\n",
    "!mkdir -p ../../../model/\n",
    "!cd ../../../model/ && wget \"https://huggingface.co/picocreator/memory-size-experiment-for-rwkv/resolve/main/TokenShift-A-Tune3.pth\""
   ]
  },
  {
   "cell_type": "code",
   "execution_count": 3,
   "metadata": {},
   "outputs": [
    {
     "name": "stdout",
     "output_type": "stream",
     "text": [
      "L12-D2560-init.pth  TokenShift-A-Tune1.pth  TokenShift-A-Tune3.pth\n"
     ]
    }
   ],
   "source": [
    "!ls ../../../model/"
   ]
  },
  {
   "cell_type": "code",
   "execution_count": 7,
   "metadata": {},
   "outputs": [
    {
     "name": "stdout",
     "output_type": "stream",
     "text": [
      "[2023-07-20 01:32:42,052] [INFO] [real_accelerator.py:110:get_accelerator] Setting ds_accelerator to cuda (auto detect)\n",
      "[RWKV.model] Running RWKV model using 'torch-jit' with torch '2.0.1'\n",
      "Using /home/picocreator/.cache/torch_extensions/py311_cu117 as PyTorch extensions root...\n",
      "Detected CUDA files, patching ldflags\n",
      "Emitting ninja build file /home/picocreator/.cache/torch_extensions/py311_cu117/wkv_1024_bf16/build.ninja...\n",
      "Building extension module wkv_1024_bf16...\n",
      "Allowing ninja to set a default number of workers... (overridable by setting the environment variable MAX_JOBS=N)\n",
      "ninja: no work to do.\n",
      "Loading extension module wkv_1024_bf16...\n",
      "###\n",
      "### Model validation start ###\n",
      "###\n",
      "## Model validation for 5 tokens : 100.0% similarity, with 5 matched token, and 0 token mismatch\n",
      "## Model validation for 10 tokens : 100.0% similarity, with 10 matched token, and 0 token mismatch\n",
      "## Model validation for 15 tokens : 100.0% similarity, with 15 matched token, and 0 token mismatch\n",
      "## Model validation for 20 tokens : 100.0% similarity, with 20 matched token, and 0 token mismatch\n",
      "## Model validation for 25 tokens : 100.0% similarity, with 25 matched token, and 0 token mismatch\n",
      "## Model validation for 30 tokens : 100.0% similarity, with 30 matched token, and 0 token mismatch\n",
      "## Model validation for 35 tokens : 100.0% similarity, with 35 matched token, and 0 token mismatch\n",
      "## Model validation for 40 tokens : 100.0% similarity, with 40 matched token, and 0 token mismatch\n",
      "## Model validation for 45 tokens : 100.0% similarity, with 45 matched token, and 0 token mismatch\n"
     ]
    }
   ],
   "source": [
    "# Memory benchmarking of the Echo-B-1B4-Tune3.pth\n",
    "!python3 ./memory_script/eval_model_memory_guided.py \"../../../model/TokenShift-A-Tune3.pth\" \"./logs/TokenShift-A-Tune3.csv\""
   ]
  },
  {
   "cell_type": "code",
   "execution_count": null,
   "metadata": {},
   "outputs": [
    {
     "name": "stdout",
     "output_type": "stream",
     "text": [
      "--2023-07-20 00:31:20--  https://huggingface.co/picocreator/memory-size-experiment-for-rwkv/resolve/main/TokenShift-A-Tune3.pth\n",
      "Resolving huggingface.co (huggingface.co)... 13.33.33.110, 13.33.33.55, 13.33.33.20, ...\n",
      "Connecting to huggingface.co (huggingface.co)|13.33.33.110|:443... connected.\n",
      "HTTP request sent, awaiting response... 302 Found\n",
      "Location: https://cdn-lfs.huggingface.co/repos/cb/ef/cbef09abb2634a3375b28868bffa285226dfeabedec89b28c2fb302221164d66/abc9e00c565092e71e0111fc22284e4a34bb9c6c039389f4148d55aa9aeb3611?response-content-disposition=attachment%3B+filename*%3DUTF-8%27%27TokenShift-A-Tune3.pth%3B+filename%3D%22TokenShift-A-Tune3.pth%22%3B&Expires=1690043480&Policy=eyJTdGF0ZW1lbnQiOlt7IkNvbmRpdGlvbiI6eyJEYXRlTGVzc1RoYW4iOnsiQVdTOkVwb2NoVGltZSI6MTY5MDA0MzQ4MH19LCJSZXNvdXJjZSI6Imh0dHBzOi8vY2RuLWxmcy5odWdnaW5nZmFjZS5jby9yZXBvcy9jYi9lZi9jYmVmMDlhYmIyNjM0YTMzNzViMjg4NjhiZmZhMjg1MjI2ZGZlYWJlZGVjODliMjhjMmZiMzAyMjIxMTY0ZDY2L2FiYzllMDBjNTY1MDkyZTcxZTAxMTFmYzIyMjg0ZTRhMzRiYjljNmMwMzkzODlmNDE0OGQ1NWFhOWFlYjM2MTE%7EcmVzcG9uc2UtY29udGVudC1kaXNwb3NpdGlvbj0qIn1dfQ__&Signature=WRlzWXsrM-ElDdJm4yqH4eLcEBZ1mA6dxb-PRSmyqWjEuqRmks3qpkeg9fozxnLIAKZCdGEbI27gRaU618%7EQw0LGFkP4kztJQrNf15W-Q5AL1Y7CozzfolN-xZCHBNx-IO1VHHIdb40CgGBm3lbzuCak88%7ExMCoftlk6Dv6IUfL3OJ4Zi-0HoFm3LRIf3b3C5DjTiZu3Rq6fCI0dUEBxQFQvpQKDIdq8s32apT8rfsT-ixXYD-mfzUJ9YXcKAg0KCMruUFkZaYtvdxDJ9bcV0hTsmUiFvpwo--KxN04AhScFXYOOom--8XnJ1mPvP1mEaSj8DF0M6omosTf4Dj%7EsRA__&Key-Pair-Id=KVTP0A1DKRTAX [following]\n",
      "--2023-07-20 00:31:20--  https://cdn-lfs.huggingface.co/repos/cb/ef/cbef09abb2634a3375b28868bffa285226dfeabedec89b28c2fb302221164d66/abc9e00c565092e71e0111fc22284e4a34bb9c6c039389f4148d55aa9aeb3611?response-content-disposition=attachment%3B+filename*%3DUTF-8%27%27TokenShift-A-Tune3.pth%3B+filename%3D%22TokenShift-A-Tune3.pth%22%3B&Expires=1690043480&Policy=eyJTdGF0ZW1lbnQiOlt7IkNvbmRpdGlvbiI6eyJEYXRlTGVzc1RoYW4iOnsiQVdTOkVwb2NoVGltZSI6MTY5MDA0MzQ4MH19LCJSZXNvdXJjZSI6Imh0dHBzOi8vY2RuLWxmcy5odWdnaW5nZmFjZS5jby9yZXBvcy9jYi9lZi9jYmVmMDlhYmIyNjM0YTMzNzViMjg4NjhiZmZhMjg1MjI2ZGZlYWJlZGVjODliMjhjMmZiMzAyMjIxMTY0ZDY2L2FiYzllMDBjNTY1MDkyZTcxZTAxMTFmYzIyMjg0ZTRhMzRiYjljNmMwMzkzODlmNDE0OGQ1NWFhOWFlYjM2MTE%7EcmVzcG9uc2UtY29udGVudC1kaXNwb3NpdGlvbj0qIn1dfQ__&Signature=WRlzWXsrM-ElDdJm4yqH4eLcEBZ1mA6dxb-PRSmyqWjEuqRmks3qpkeg9fozxnLIAKZCdGEbI27gRaU618%7EQw0LGFkP4kztJQrNf15W-Q5AL1Y7CozzfolN-xZCHBNx-IO1VHHIdb40CgGBm3lbzuCak88%7ExMCoftlk6Dv6IUfL3OJ4Zi-0HoFm3LRIf3b3C5DjTiZu3Rq6fCI0dUEBxQFQvpQKDIdq8s32apT8rfsT-ixXYD-mfzUJ9YXcKAg0KCMruUFkZaYtvdxDJ9bcV0hTsmUiFvpwo--KxN04AhScFXYOOom--8XnJ1mPvP1mEaSj8DF0M6omosTf4Dj%7EsRA__&Key-Pair-Id=KVTP0A1DKRTAX\n",
      "Resolving cdn-lfs.huggingface.co (cdn-lfs.huggingface.co)... 18.155.68.98, 18.155.68.128, 18.155.68.94, ...\n",
      "Connecting to cdn-lfs.huggingface.co (cdn-lfs.huggingface.co)|18.155.68.98|:443... connected.\n",
      "HTTP request sent, awaiting response... 200 OK\n",
      "Length: 5120535962 (4.8G) [binary/octet-stream]\n",
      "Saving to: ‘TokenShift-A-Tune3.pth’\n",
      "\n",
      "TokenShift-A-Tune3. 100%[===================>]   4.77G  10.2MB/s    in 17m 32s \n",
      "\n",
      "2023-07-20 00:48:53 (4.64 MB/s) - ‘TokenShift-A-Tune3.pth’ saved [5120535962/5120535962]\n",
      "\n"
     ]
    }
   ],
   "source": [
    "# Lets download the custom models\n",
    "!mkdir -p ../../../model/\n",
    "!cd ../../../model/ && wget \"https://huggingface.co/picocreator/memory-size-experiment-for-rwkv/resolve/main/TokenShift-A-Tune4.pth\""
   ]
  },
  {
   "cell_type": "code",
   "execution_count": null,
   "metadata": {},
   "outputs": [
    {
     "name": "stdout",
     "output_type": "stream",
     "text": [
      "[2023-07-20 01:32:42,052] [INFO] [real_accelerator.py:110:get_accelerator] Setting ds_accelerator to cuda (auto detect)\n",
      "[RWKV.model] Running RWKV model using 'torch-jit' with torch '2.0.1'\n",
      "Using /home/picocreator/.cache/torch_extensions/py311_cu117 as PyTorch extensions root...\n",
      "Detected CUDA files, patching ldflags\n",
      "Emitting ninja build file /home/picocreator/.cache/torch_extensions/py311_cu117/wkv_1024_bf16/build.ninja...\n",
      "Building extension module wkv_1024_bf16...\n",
      "Allowing ninja to set a default number of workers... (overridable by setting the environment variable MAX_JOBS=N)\n",
      "ninja: no work to do.\n",
      "Loading extension module wkv_1024_bf16...\n",
      "###\n",
      "### Model validation start ###\n",
      "###\n",
      "## Model validation for 5 tokens : 100.0% similarity, with 5 matched token, and 0 token mismatch\n",
      "## Model validation for 10 tokens : 100.0% similarity, with 10 matched token, and 0 token mismatch\n",
      "## Model validation for 15 tokens : 100.0% similarity, with 15 matched token, and 0 token mismatch\n",
      "## Model validation for 20 tokens : 100.0% similarity, with 20 matched token, and 0 token mismatch\n",
      "## Model validation for 25 tokens : 100.0% similarity, with 25 matched token, and 0 token mismatch\n",
      "## Model validation for 30 tokens : 100.0% similarity, with 30 matched token, and 0 token mismatch\n",
      "## Model validation for 35 tokens : 100.0% similarity, with 35 matched token, and 0 token mismatch\n",
      "## Model validation for 40 tokens : 100.0% similarity, with 40 matched token, and 0 token mismatch\n",
      "## Model validation for 45 tokens : 100.0% similarity, with 45 matched token, and 0 token mismatch\n"
     ]
    }
   ],
   "source": [
    "# Memory benchmarking of the Echo-B-1B4-Tune4.pth\n",
    "!python3 ./memory_script/eval_model_memory_guided.py \"../../../model/TokenShift-A-Tune4.pth\" \"./logs/TokenShift-A-Tune4.csv\""
   ]
  }
 ],
 "metadata": {
  "kernelspec": {
   "display_name": "rwkv-infctx",
   "language": "python",
   "name": "python3"
  },
  "language_info": {
   "codemirror_mode": {
    "name": "ipython",
    "version": 3
   },
   "file_extension": ".py",
   "mimetype": "text/x-python",
   "name": "python",
   "nbconvert_exporter": "python",
   "pygments_lexer": "ipython3",
   "version": "3.11.4"
  },
  "orig_nbformat": 4
 },
 "nbformat": 4,
 "nbformat_minor": 2
}
