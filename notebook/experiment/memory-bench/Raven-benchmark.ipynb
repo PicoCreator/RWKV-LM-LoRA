{
 "cells": [
  {
   "cell_type": "markdown",
   "metadata": {},
   "source": [
    "## Raven Verbose benchmarking\n",
    "\n",
    "The following is meant to observe the memory performance in a more verbose logging mode, for the baseline raven models"
   ]
  },
  {
   "cell_type": "code",
   "execution_count": 12,
   "metadata": {},
   "outputs": [
    {
     "name": "stdout",
     "output_type": "stream",
     "text": [
      "--2023-07-18 14:41:32--  https://huggingface.co/BlinkDL/rwkv-4-raven/resolve/main/RWKV-4-Raven-7B-v12-Eng98%25-Other2%25-20230521-ctx8192.pth\n",
      "Resolving huggingface.co (huggingface.co)... 18.154.227.69, 18.154.227.67, 18.154.227.7, ...\n",
      "Connecting to huggingface.co (huggingface.co)|18.154.227.69|:443... connected.\n",
      "HTTP request sent, awaiting response... 302 Found\n",
      "Location: https://cdn-lfs.huggingface.co/repos/41/55/4155c7aaff64e0f4b926df1a8fff201f8ee3653c39ba67b31e4973ae97828633/5a725eaeb9e09b724de6c97e6845dd0283097c7920acd05b46852ab7afa9ec32?response-content-disposition=attachment%3B+filename*%3DUTF-8%27%27RWKV-4-Raven-7B-v12-Eng98%2525-Other2%2525-20230521-ctx8192.pth%3B+filename%3D%22RWKV-4-Raven-7B-v12-Eng98%25-Other2%25-20230521-ctx8192.pth%22%3B&Expires=1689950492&Policy=eyJTdGF0ZW1lbnQiOlt7IkNvbmRpdGlvbiI6eyJEYXRlTGVzc1RoYW4iOnsiQVdTOkVwb2NoVGltZSI6MTY4OTk1MDQ5Mn19LCJSZXNvdXJjZSI6Imh0dHBzOi8vY2RuLWxmcy5odWdnaW5nZmFjZS5jby9yZXBvcy80MS81NS80MTU1YzdhYWZmNjRlMGY0YjkyNmRmMWE4ZmZmMjAxZjhlZTM2NTNjMzliYTY3YjMxZTQ5NzNhZTk3ODI4NjMzLzVhNzI1ZWFlYjllMDliNzI0ZGU2Yzk3ZTY4NDVkZDAyODMwOTdjNzkyMGFjZDA1YjQ2ODUyYWI3YWZhOWVjMzI%7EcmVzcG9uc2UtY29udGVudC1kaXNwb3NpdGlvbj0qIn1dfQ__&Signature=bZWWulv2NSTu3jNhWad9lrLxSKItlzpxq5t0WMCTPFYbq6movw6iYWIjaVTQ9%7EWyU9wi9ymAeVSOO2AdUa6PH4B-suG4XZFju4%7Ev7d7u0ba-pnBCZ3ZPPPNPFhUEcoDzR6E8ccIbYofiP7gfbZsi4mOfJ72zbCUcCSYxVhk7s7cEm2ys9GflaFPLIOn2cAeFEH7iAas4yXr8LrBKFVXWlytY2zlb7SkhLFO07gyG8xXmUlxmKyEyQbHjfw8x7NEE%7EKd%7EAJtjtN0mfurG06RWApptvH2FXONtname-f4ytBL0B%7EO2xQX33zQo1Rfzh3IuN0KfxjVjr0Idf-X2gXhE1g__&Key-Pair-Id=KVTP0A1DKRTAX [following]\n",
      "--2023-07-18 14:41:32--  https://cdn-lfs.huggingface.co/repos/41/55/4155c7aaff64e0f4b926df1a8fff201f8ee3653c39ba67b31e4973ae97828633/5a725eaeb9e09b724de6c97e6845dd0283097c7920acd05b46852ab7afa9ec32?response-content-disposition=attachment%3B+filename*%3DUTF-8%27%27RWKV-4-Raven-7B-v12-Eng98%2525-Other2%2525-20230521-ctx8192.pth%3B+filename%3D%22RWKV-4-Raven-7B-v12-Eng98%25-Other2%25-20230521-ctx8192.pth%22%3B&Expires=1689950492&Policy=eyJTdGF0ZW1lbnQiOlt7IkNvbmRpdGlvbiI6eyJEYXRlTGVzc1RoYW4iOnsiQVdTOkVwb2NoVGltZSI6MTY4OTk1MDQ5Mn19LCJSZXNvdXJjZSI6Imh0dHBzOi8vY2RuLWxmcy5odWdnaW5nZmFjZS5jby9yZXBvcy80MS81NS80MTU1YzdhYWZmNjRlMGY0YjkyNmRmMWE4ZmZmMjAxZjhlZTM2NTNjMzliYTY3YjMxZTQ5NzNhZTk3ODI4NjMzLzVhNzI1ZWFlYjllMDliNzI0ZGU2Yzk3ZTY4NDVkZDAyODMwOTdjNzkyMGFjZDA1YjQ2ODUyYWI3YWZhOWVjMzI%7EcmVzcG9uc2UtY29udGVudC1kaXNwb3NpdGlvbj0qIn1dfQ__&Signature=bZWWulv2NSTu3jNhWad9lrLxSKItlzpxq5t0WMCTPFYbq6movw6iYWIjaVTQ9%7EWyU9wi9ymAeVSOO2AdUa6PH4B-suG4XZFju4%7Ev7d7u0ba-pnBCZ3ZPPPNPFhUEcoDzR6E8ccIbYofiP7gfbZsi4mOfJ72zbCUcCSYxVhk7s7cEm2ys9GflaFPLIOn2cAeFEH7iAas4yXr8LrBKFVXWlytY2zlb7SkhLFO07gyG8xXmUlxmKyEyQbHjfw8x7NEE%7EKd%7EAJtjtN0mfurG06RWApptvH2FXONtname-f4ytBL0B%7EO2xQX33zQo1Rfzh3IuN0KfxjVjr0Idf-X2gXhE1g__&Key-Pair-Id=KVTP0A1DKRTAX\n",
      "Resolving cdn-lfs.huggingface.co (cdn-lfs.huggingface.co)... 108.138.64.121, 108.138.64.36, 108.138.64.49, ...\n",
      "Connecting to cdn-lfs.huggingface.co (cdn-lfs.huggingface.co)|108.138.64.121|:443... connected.\n",
      "HTTP request sent, awaiting response... 200 OK\n",
      "Length: 14785389618 (14G) [binary/octet-stream]\n",
      "Saving to: ‘RWKV-4-Raven-7B-v12-Eng98%-Other2%-20230521-ctx8192.pth’\n",
      "\n",
      "-Eng98%-Other2%-202   7%[>                   ] 991.82M  47.7MB/s    eta 5m 27s "
     ]
    },
    {
     "name": "stdout",
     "output_type": "stream",
     "text": [
      "RWKV-4-Raven-7B-v12 100%[===================>]  13.77G  38.5MB/s    in 5m 3s   \n",
      "\n",
      "2023-07-18 14:46:35 (46.6 MB/s) - ‘RWKV-4-Raven-7B-v12-Eng98%-Other2%-20230521-ctx8192.pth’ saved [14785389618/14785389618]\n",
      "\n",
      "--2023-07-18 14:46:35--  https://huggingface.co/BlinkDL/rwkv-4-raven/resolve/main/RWKV-4-Raven-14B-v12-Eng98%25-Other2%25-20230523-ctx8192.pth\n",
      "Resolving huggingface.co (huggingface.co)... 18.154.227.87, 18.154.227.7, 18.154.227.67, ...\n",
      "Connecting to huggingface.co (huggingface.co)|18.154.227.87|:443... connected.\n",
      "HTTP request sent, awaiting response... 302 Found\n",
      "Location: https://cdn-lfs.huggingface.co/repos/41/55/4155c7aaff64e0f4b926df1a8fff201f8ee3653c39ba67b31e4973ae97828633/1193b5a9ceab572e4dbb9ed1d798eab7bf4793d18904d08bd4bf183579338ae7?response-content-disposition=attachment%3B+filename*%3DUTF-8%27%27RWKV-4-Raven-14B-v12-Eng98%2525-Other2%2525-20230523-ctx8192.pth%3B+filename%3D%22RWKV-4-Raven-14B-v12-Eng98%25-Other2%25-20230523-ctx8192.pth%22%3B&Expires=1689950795&Policy=eyJTdGF0ZW1lbnQiOlt7IkNvbmRpdGlvbiI6eyJEYXRlTGVzc1RoYW4iOnsiQVdTOkVwb2NoVGltZSI6MTY4OTk1MDc5NX19LCJSZXNvdXJjZSI6Imh0dHBzOi8vY2RuLWxmcy5odWdnaW5nZmFjZS5jby9yZXBvcy80MS81NS80MTU1YzdhYWZmNjRlMGY0YjkyNmRmMWE4ZmZmMjAxZjhlZTM2NTNjMzliYTY3YjMxZTQ5NzNhZTk3ODI4NjMzLzExOTNiNWE5Y2VhYjU3MmU0ZGJiOWVkMWQ3OThlYWI3YmY0NzkzZDE4OTA0ZDA4YmQ0YmYxODM1NzkzMzhhZTc%7EcmVzcG9uc2UtY29udGVudC1kaXNwb3NpdGlvbj0qIn1dfQ__&Signature=F29lGK4tcIlhlrF%7EWEh4R7MnbyujT890BSi3hAtbXih2ycc05sB22Hm54WwU6e4kcRrde5WBJ6bMQUFE4IUviJnP%7ERLRvLjAOARQKLLncwp374dPTgvx8bmWUZk3ConnyYh0uZa-mWKO5Y4UlnbdoesSA5iEOsdrKp889UZ-DxbD70wkHWVVc6Fzxp6VHARbcRl7lD4rwvoKyr2Wy%7E9AlSOu%7EY2-tnMWQ2hZmTitlV4n29iVvd0xyOvFSpRBjvl-Edv1yJPLdTCb3L2eKHY9my9LJlI6Av9XGus%7Ekz0dxvyh1sxYZro9jMpkz7ZH3xslMmT7XC9LxqxL%7EJwK5wNabg__&Key-Pair-Id=KVTP0A1DKRTAX [following]\n",
      "--2023-07-18 14:46:35--  https://cdn-lfs.huggingface.co/repos/41/55/4155c7aaff64e0f4b926df1a8fff201f8ee3653c39ba67b31e4973ae97828633/1193b5a9ceab572e4dbb9ed1d798eab7bf4793d18904d08bd4bf183579338ae7?response-content-disposition=attachment%3B+filename*%3DUTF-8%27%27RWKV-4-Raven-14B-v12-Eng98%2525-Other2%2525-20230523-ctx8192.pth%3B+filename%3D%22RWKV-4-Raven-14B-v12-Eng98%25-Other2%25-20230523-ctx8192.pth%22%3B&Expires=1689950795&Policy=eyJTdGF0ZW1lbnQiOlt7IkNvbmRpdGlvbiI6eyJEYXRlTGVzc1RoYW4iOnsiQVdTOkVwb2NoVGltZSI6MTY4OTk1MDc5NX19LCJSZXNvdXJjZSI6Imh0dHBzOi8vY2RuLWxmcy5odWdnaW5nZmFjZS5jby9yZXBvcy80MS81NS80MTU1YzdhYWZmNjRlMGY0YjkyNmRmMWE4ZmZmMjAxZjhlZTM2NTNjMzliYTY3YjMxZTQ5NzNhZTk3ODI4NjMzLzExOTNiNWE5Y2VhYjU3MmU0ZGJiOWVkMWQ3OThlYWI3YmY0NzkzZDE4OTA0ZDA4YmQ0YmYxODM1NzkzMzhhZTc%7EcmVzcG9uc2UtY29udGVudC1kaXNwb3NpdGlvbj0qIn1dfQ__&Signature=F29lGK4tcIlhlrF%7EWEh4R7MnbyujT890BSi3hAtbXih2ycc05sB22Hm54WwU6e4kcRrde5WBJ6bMQUFE4IUviJnP%7ERLRvLjAOARQKLLncwp374dPTgvx8bmWUZk3ConnyYh0uZa-mWKO5Y4UlnbdoesSA5iEOsdrKp889UZ-DxbD70wkHWVVc6Fzxp6VHARbcRl7lD4rwvoKyr2Wy%7E9AlSOu%7EY2-tnMWQ2hZmTitlV4n29iVvd0xyOvFSpRBjvl-Edv1yJPLdTCb3L2eKHY9my9LJlI6Av9XGus%7Ekz0dxvyh1sxYZro9jMpkz7ZH3xslMmT7XC9LxqxL%7EJwK5wNabg__&Key-Pair-Id=KVTP0A1DKRTAX\n",
      "Resolving cdn-lfs.huggingface.co (cdn-lfs.huggingface.co)... 108.138.64.36, 108.138.64.111, 108.138.64.49, ...\n",
      "Connecting to cdn-lfs.huggingface.co (cdn-lfs.huggingface.co)|108.138.64.36|:443... connected.\n",
      "HTTP request sent, awaiting response... 200 OK\n",
      "Length: 28297309490 (26G) [binary/octet-stream]\n",
      "Saving to: ‘RWKV-4-Raven-14B-v12-Eng98%-Other2%-20230523-ctx8192.pth’\n",
      "\n",
      "RWKV-4-Raven-14B-v1 100%[===================>]  26.35G  52.5MB/s    in 8m 15s  \n",
      "\n",
      "2023-07-18 14:54:50 (54.5 MB/s) - ‘RWKV-4-Raven-14B-v12-Eng98%-Other2%-20230523-ctx8192.pth’ saved [28297309490/28297309490]\n",
      "\n"
     ]
    }
   ],
   "source": [
    "# Lets download the raven model\n",
    "!mkdir -p ../../../model/\n",
    "# !cd ../../../model/ && wget \"https://huggingface.co/BlinkDL/rwkv-4-raven/resolve/main/RWKV-4-Raven-1B5-v12-Eng98%25-Other2%25-20230520-ctx4096.pth\"\n",
    "# !cd ../../../model/ && wget \"https://huggingface.co/BlinkDL/rwkv-4-raven/resolve/main/RWKV-4-Raven-3B-v12-Eng98%25-Other2%25-20230520-ctx4096.pth\"\n",
    "!cd ../../../model/ && wget \"https://huggingface.co/BlinkDL/rwkv-4-raven/resolve/main/RWKV-4-Raven-7B-v12-Eng98%25-Other2%25-20230521-ctx8192.pth\"\n",
    "!cd ../../../model/ && wget \"https://huggingface.co/BlinkDL/rwkv-4-raven/resolve/main/RWKV-4-Raven-14B-v12-Eng98%25-Other2%25-20230523-ctx8192.pth\""
   ]
  },
  {
   "cell_type": "code",
   "execution_count": 1,
   "metadata": {},
   "outputs": [
    {
     "name": "stdout",
     "output_type": "stream",
     "text": [
      "Echo-A-1B5-Init.pth    RWKV-4-Raven-1B5-v12-Eng98%-Other2%-20230520-ctx4096.pth\n",
      "Echo-B-1B4-Stage1.pth  RWKV-4-Raven-3B-v12-Eng98%-Other2%-20230520-ctx4096.pth\n"
     ]
    }
   ],
   "source": [
    "!ls ../../../model/"
   ]
  },
  {
   "cell_type": "code",
   "execution_count": 4,
   "metadata": {},
   "outputs": [
    {
     "name": "stdout",
     "output_type": "stream",
     "text": [
      "Collecting rwkv\n",
      "  Downloading rwkv-0.8.0-py3-none-any.whl (395 kB)\n",
      "\u001b[2K     \u001b[90m━━━━━━━━━━━━━━━━━━━━━━━━━━━━━━━━━━━━━━\u001b[0m \u001b[32m395.4/395.4 kB\u001b[0m \u001b[31m23.8 MB/s\u001b[0m eta \u001b[36m0:00:00\u001b[0m\n",
      "\u001b[?25hRequirement already satisfied: tokenizers>=0.13.2 in /home/ubuntu/anaconda3/envs/rwkv-infctx/lib/python3.11/site-packages (from rwkv) (0.13.3)\n",
      "Installing collected packages: rwkv\n",
      "Successfully installed rwkv-0.8.0\n"
     ]
    }
   ],
   "source": [
    "!python -m pip install rwkv"
   ]
  },
  {
   "cell_type": "code",
   "execution_count": 10,
   "metadata": {},
   "outputs": [
    {
     "name": "stdout",
     "output_type": "stream",
     "text": [
      "Using /home/ubuntu/.cache/torch_extensions/py311_cu118 as PyTorch extensions root...\n",
      "Detected CUDA files, patching ldflags\n",
      "Emitting ninja build file /home/ubuntu/.cache/torch_extensions/py311_cu118/wkv_cuda/build.ninja...\n",
      "Building extension module wkv_cuda...\n",
      "Allowing ninja to set a default number of workers... (overridable by setting the environment variable MAX_JOBS=N)\n",
      "ninja: no work to do.\n",
      "Loading extension module wkv_cuda...\n",
      "RWKV_JIT_ON 1 RWKV_CUDA_ON 1 RESCALE_LAYER 0\n",
      "\n",
      "Loading ../../../model/RWKV-4-Raven-1B5-v12-Eng98%-Other2%-20230520-ctx4096.pth ...\n",
      "Strategy: (total 24+1=25 layers)\n",
      "* cuda [float32, float32], store 25 layers\n",
      "0-cuda-float32-float32 1-cuda-float32-float32 2-cuda-float32-float32 3-cuda-float32-float32 4-cuda-float32-float32 5-cuda-float32-float32 6-cuda-float32-float32 7-cuda-float32-float32 8-cuda-float32-float32 9-cuda-float32-float32 10-cuda-float32-float32 11-cuda-float32-float32 12-cuda-float32-float32 13-cuda-float32-float32 14-cuda-float32-float32 15-cuda-float32-float32 16-cuda-float32-float32 17-cuda-float32-float32 18-cuda-float32-float32 19-cuda-float32-float32 20-cuda-float32-float32 21-cuda-float32-float32 22-cuda-float32-float32 23-cuda-float32-float32 24-cuda-float32-float32 \n",
      "emb.weight                        f32      cpu  50277  2048 \n",
      "blocks.0.ln1.weight               f32   cuda:0   2048       \n",
      "blocks.0.ln1.bias                 f32   cuda:0   2048       \n",
      "blocks.0.ln2.weight               f32   cuda:0   2048       \n",
      "blocks.0.ln2.bias                 f32   cuda:0   2048       \n",
      "blocks.0.att.time_decay           f32   cuda:0   2048       \n",
      "blocks.0.att.time_first           f32   cuda:0   2048       \n",
      "blocks.0.att.time_mix_k           f32   cuda:0   2048       \n",
      "blocks.0.att.time_mix_v           f32   cuda:0   2048       \n",
      "blocks.0.att.time_mix_r           f32   cuda:0   2048       \n",
      "blocks.0.att.key.weight           f32   cuda:0   2048  2048 \n",
      "blocks.0.att.value.weight         f32   cuda:0   2048  2048 \n",
      "blocks.0.att.receptance.weight    f32   cuda:0   2048  2048 \n",
      "blocks.0.att.output.weight        f32   cuda:0   2048  2048 \n",
      "blocks.0.ffn.time_mix_k           f32   cuda:0   2048       \n",
      "blocks.0.ffn.time_mix_r           f32   cuda:0   2048       \n",
      "blocks.0.ffn.key.weight           f32   cuda:0   2048  8192 \n",
      "blocks.0.ffn.receptance.weight    f32   cuda:0   2048  2048 \n",
      "blocks.0.ffn.value.weight         f32   cuda:0   8192  2048 \n",
      "............................................................................................................................................................................................................................................................................................................................................................................................................\n",
      "blocks.23.ln1.weight              f32   cuda:0   2048       \n",
      "blocks.23.ln1.bias                f32   cuda:0   2048       \n",
      "blocks.23.ln2.weight              f32   cuda:0   2048       \n",
      "blocks.23.ln2.bias                f32   cuda:0   2048       \n",
      "blocks.23.att.time_decay          f32   cuda:0   2048       \n",
      "blocks.23.att.time_first          f32   cuda:0   2048       \n",
      "blocks.23.att.time_mix_k          f32   cuda:0   2048       \n",
      "blocks.23.att.time_mix_v          f32   cuda:0   2048       \n",
      "blocks.23.att.time_mix_r          f32   cuda:0   2048       \n",
      "blocks.23.att.key.weight          f32   cuda:0   2048  2048 \n",
      "blocks.23.att.value.weight        f32   cuda:0   2048  2048 \n",
      "blocks.23.att.receptance.weight   f32   cuda:0   2048  2048 \n",
      "blocks.23.att.output.weight       f32   cuda:0   2048  2048 \n",
      "blocks.23.ffn.time_mix_k          f32   cuda:0   2048       \n",
      "blocks.23.ffn.time_mix_r          f32   cuda:0   2048       \n",
      "blocks.23.ffn.key.weight          f32   cuda:0   2048  8192 \n",
      "blocks.23.ffn.receptance.weight   f32   cuda:0   2048  2048 \n",
      "blocks.23.ffn.value.weight        f32   cuda:0   8192  2048 \n",
      "ln_out.weight                     f32   cuda:0   2048       \n",
      "ln_out.bias                       f32   cuda:0   2048       \n",
      "head.weight                       f32   cuda:0   2048 50277 \n",
      "###\n",
      "### Model validation start ###\n",
      "###\n",
      "## Model validation for 5 tokens : 100.0% similarity, with 5 matched token, and 0 token mismatch\n",
      "## Model validation for 10 tokens : 100.0% similarity, with 10 matched token, and 0 token mismatch\n",
      "## Model validation for 15 tokens : 93.33333333333333% similarity, with 14 matched token, and 1 token mismatch\n",
      "## Model validation for 20 tokens : 95.0% similarity, with 19 matched token, and 1 token mismatch\n",
      "## Model validation for 25 tokens : 92.0% similarity, with 23 matched token, and 2 token mismatch\n",
      "## Model validation for 30 tokens : 90.0% similarity, with 27 matched token, and 3 token mismatch\n",
      "## Model validation for 35 tokens : 91.42857142857143% similarity, with 32 matched token, and 3 token mismatch\n",
      "## Model validation for 40 tokens : 92.5% similarity, with 37 matched token, and 3 token mismatch\n",
      "## Model validation for 45 tokens : 88.88888888888889% similarity, with 40 matched token, and 5 token mismatch\n",
      "## Model validation for 50 tokens : 92.0% similarity, with 46 matched token, and 4 token mismatch\n",
      "## Model validation for 55 tokens : 89.0909090909091% similarity, with 49 matched token, and 6 token mismatch\n",
      "## Model validation for 60 tokens : 85.0% similarity, with 51 matched token, and 9 token mismatch\n",
      "## Model validation for 65 tokens : 80.0% similarity, with 52 matched token, and 13 token mismatch\n",
      "## Model validation for 70 tokens : 72.85714285714285% similarity, with 51 matched token, and 19 token mismatch\n",
      "## Model validation for 75 tokens : 68.0% similarity, with 51 matched token, and 24 token mismatch\n",
      "## Model validation for 80 tokens : 66.25% similarity, with 53 matched token, and 27 token mismatch\n",
      "## Model validation for 85 tokens : 58.82352941176471% similarity, with 50 matched token, and 35 token mismatch\n",
      "## Model validation for 90 tokens : 55.55555555555556% similarity, with 50 matched token, and 40 token mismatch\n",
      "## Model validation for 95 tokens : 55.78947368421052% similarity, with 53 matched token, and 42 token mismatch\n",
      "## Model validation for 100 tokens : 52.0% similarity, with 52 matched token, and 48 token mismatch\n",
      "## Model validation for 105 tokens : 49.523809523809526% similarity, with 52 matched token, and 53 token mismatch\n",
      "## Model validation for 110 tokens : 49.09090909090909% similarity, with 54 matched token, and 56 token mismatch\n",
      "## Model validation for 115 tokens : 46.08695652173913% similarity, with 53 matched token, and 62 token mismatch\n",
      "## Model validation for 120 tokens : 45.83333333333333% similarity, with 55 matched token, and 65 token mismatch\n",
      "## Model validation for 125 tokens : 40.8% similarity, with 51 matched token, and 74 token mismatch\n",
      "## Model validation for 130 tokens : 40.76923076923077% similarity, with 53 matched token, and 77 token mismatch\n",
      "## Model validation for 135 tokens : 40.0% similarity, with 54 matched token, and 81 token mismatch\n",
      "## Model validation for 140 tokens : 41.42857142857143% similarity, with 58 matched token, and 82 token mismatch\n",
      "## Model validation for 145 tokens : 37.93103448275862% similarity, with 55 matched token, and 90 token mismatch\n",
      "## Model validation for 150 tokens : 34.0% similarity, with 51 matched token, and 99 token mismatch\n",
      "## Model validation for 160 tokens : 33.125% similarity, with 53 matched token, and 107 token mismatch\n",
      "## Model validation for 170 tokens : 30.58823529411765% similarity, with 52 matched token, and 118 token mismatch\n",
      "## Model validation for 180 tokens : 26.111111111111114% similarity, with 47 matched token, and 133 token mismatch\n",
      "## Model validation for 190 tokens : 25.263157894736842% similarity, with 48 matched token, and 142 token mismatch\n",
      "## Model validation for 200 tokens : 21.5% similarity, with 43 matched token, and 157 token mismatch\n",
      "## Model validation for 210 tokens : 21.904761904761905% similarity, with 46 matched token, and 164 token mismatch\n",
      "## Model validation for 220 tokens : 20.909090909090907% similarity, with 46 matched token, and 174 token mismatch\n",
      "## Model validation for 230 tokens : 19.130434782608695% similarity, with 44 matched token, and 186 token mismatch\n",
      "## Model validation for 240 tokens : 18.75% similarity, with 45 matched token, and 195 token mismatch\n",
      "## Model validation for 250 tokens : 16.0% similarity, with 40 matched token, and 210 token mismatch\n",
      "## Model validation for 260 tokens : 15.0% similarity, with 39 matched token, and 221 token mismatch\n",
      "## Model validation for 270 tokens : 11.851851851851853% similarity, with 32 matched token, and 238 token mismatch\n",
      "## Model validation for 280 tokens : 12.142857142857142% similarity, with 34 matched token, and 246 token mismatch\n",
      "## Model validation for 290 tokens : 14.827586206896552% similarity, with 43 matched token, and 247 token mismatch\n",
      "## Model validation for 300 tokens : 13.333333333333334% similarity, with 40 matched token, and 260 token mismatch\n",
      "## Model validation for 325 tokens : 10.153846153846153% similarity, with 33 matched token, and 292 token mismatch\n",
      "## Model validation for 350 tokens : 9.428571428571429% similarity, with 33 matched token, and 317 token mismatch\n",
      "## Model validation for 375 tokens : 7.466666666666668% similarity, with 28 matched token, and 347 token mismatch\n",
      "## Model validation for 400 tokens : 6.5% similarity, with 26 matched token, and 374 token mismatch\n",
      "## Model validation for 425 tokens : 6.588235294117648% similarity, with 28 matched token, and 397 token mismatch\n",
      "## Model validation for 450 tokens : 6.222222222222222% similarity, with 28 matched token, and 422 token mismatch\n",
      "## Model validation for 475 tokens : 5.263157894736842% similarity, with 25 matched token, and 450 token mismatch\n",
      "## Model validation for 500 tokens : 4.8% similarity, with 24 matched token, and 476 token mismatch\n",
      "## Model validation for 525 tokens : 4.761904761904762% similarity, with 25 matched token, and 500 token mismatch\n",
      "## Model validation for 550 tokens : 4.363636363636364% similarity, with 24 matched token, and 526 token mismatch\n",
      "## Model validation for 575 tokens : 4.521739130434783% similarity, with 26 matched token, and 549 token mismatch\n",
      "## Model validation for 600 tokens : 4.666666666666667% similarity, with 28 matched token, and 572 token mismatch\n",
      "## Model validation for 625 tokens : 4.64% similarity, with 29 matched token, and 596 token mismatch\n",
      "## Model validation for 650 tokens : 4.153846153846154% similarity, with 27 matched token, and 623 token mismatch\n",
      "## Model validation for 675 tokens : 4.0% similarity, with 27 matched token, and 648 token mismatch\n",
      "## Model validation for 700 tokens : 3.8571428571428568% similarity, with 27 matched token, and 673 token mismatch\n",
      "## Model validation for 750 tokens : 4.0% similarity, with 30 matched token, and 720 token mismatch\n",
      "## Model validation for 800 tokens : 3.875% similarity, with 31 matched token, and 769 token mismatch\n",
      "## Model validation for 850 tokens : 3.6470588235294117% similarity, with 31 matched token, and 819 token mismatch\n",
      "## Model validation for 900 tokens : 3.5555555555555554% similarity, with 32 matched token, and 868 token mismatch\n",
      "## Model validation for 950 tokens : 3.3684210526315788% similarity, with 32 matched token, and 918 token mismatch\n",
      "## Finished baseline model to eval output predictive matching (aka 0 memory?), for 1000 tokens\n"
     ]
    }
   ],
   "source": [
    "# Memory benchmarking of the 1.5B model\n",
    "!python3 ./memory_script/eval_memory_guided.py \"../../../model/RWKV-4-Raven-1B5-v12-Eng98%-Other2%-20230520-ctx4096.pth\" \"./logs/Raven-1B5-v12.csv\""
   ]
  },
  {
   "cell_type": "code",
   "execution_count": 15,
   "metadata": {},
   "outputs": [
    {
     "name": "stdout",
     "output_type": "stream",
     "text": [
      "Using /home/ubuntu/.cache/torch_extensions/py311_cu118 as PyTorch extensions root...\n",
      "Detected CUDA files, patching ldflags\n",
      "Emitting ninja build file /home/ubuntu/.cache/torch_extensions/py311_cu118/wkv_cuda/build.ninja...\n",
      "Building extension module wkv_cuda...\n",
      "Allowing ninja to set a default number of workers... (overridable by setting the environment variable MAX_JOBS=N)\n",
      "ninja: no work to do.\n",
      "Loading extension module wkv_cuda...\n",
      "RWKV_JIT_ON 1 RWKV_CUDA_ON 1 RESCALE_LAYER 0\n",
      "\n",
      "Loading ../../../model/RWKV-4-Raven-3B-v12-Eng98%-Other2%-20230520-ctx4096.pth ...\n"
     ]
    }
   ],
   "source": [
    "# Memory benchmarking of the 3B model\n",
    "!python3 ./memory_script/eval_memory_guided.py \"../../../model/RWKV-4-Raven-3B-v12-Eng98%-Other2%-20230520-ctx4096.pth\" \"./logs/Raven-3B-v12.csv\""
   ]
  },
  {
   "cell_type": "code",
   "execution_count": 13,
   "metadata": {},
   "outputs": [
    {
     "name": "stdout",
     "output_type": "stream",
     "text": [
      "Using /home/ubuntu/.cache/torch_extensions/py311_cu118 as PyTorch extensions root...\n",
      "Detected CUDA files, patching ldflags\n",
      "Emitting ninja build file /home/ubuntu/.cache/torch_extensions/py311_cu118/wkv_cuda/build.ninja...\n",
      "Building extension module wkv_cuda...\n",
      "Allowing ninja to set a default number of workers... (overridable by setting the environment variable MAX_JOBS=N)\n",
      "ninja: no work to do.\n",
      "Loading extension module wkv_cuda...\n",
      "RWKV_JIT_ON 1 RWKV_CUDA_ON 1 RESCALE_LAYER 0\n",
      "\n",
      "Loading ../../../model/RWKV-4-Raven-7B-v12-Eng98%25-Other2%25-20230521-ctx8192.pth ...\n",
      "Traceback (most recent call last):\n",
      "  File \"/home/ubuntu/picocreator-memory-experiment/notebook/experiment/memory-enwiki-v2/./memory_script/eval_memory_guided.py\", line 57, in <module>\n",
      "    model = RWKV(model=model_path, strategy=model_run_strat)\n",
      "            ^^^^^^^^^^^^^^^^^^^^^^^^^^^^^^^^^^^^^^^^^^^^^^^^\n",
      "  File \"/home/ubuntu/anaconda3/envs/rwkv-infctx/lib/python3.11/site-packages/torch/jit/_script.py\", line 292, in init_then_script\n",
      "    original_init(self, *args, **kwargs)\n",
      "  File \"/home/ubuntu/anaconda3/envs/rwkv-infctx/lib/python3.11/site-packages/rwkv/model.py\", line 104, in __init__\n",
      "    self.w = torch.load(args.MODEL_NAME, map_location='cpu') # load model to CPU first\n",
      "             ^^^^^^^^^^^^^^^^^^^^^^^^^^^^^^^^^^^^^^^^^^^^^^^\n",
      "  File \"/home/ubuntu/anaconda3/envs/rwkv-infctx/lib/python3.11/site-packages/torch/serialization.py\", line 949, in load\n",
      "    with _open_file_like(f, 'rb') as opened_file:\n",
      "         ^^^^^^^^^^^^^^^^^^^^^^^^\n",
      "  File \"/home/ubuntu/anaconda3/envs/rwkv-infctx/lib/python3.11/site-packages/torch/serialization.py\", line 398, in _open_file_like\n",
      "    return _open_file(name_or_buffer, mode)\n",
      "           ^^^^^^^^^^^^^^^^^^^^^^^^^^^^^^^^\n",
      "  File \"/home/ubuntu/anaconda3/envs/rwkv-infctx/lib/python3.11/site-packages/torch/serialization.py\", line 379, in __init__\n",
      "    super().__init__(open(name, mode))\n",
      "                     ^^^^^^^^^^^^^^^^\n",
      "FileNotFoundError: [Errno 2] No such file or directory: '../../../model/RWKV-4-Raven-7B-v12-Eng98%25-Other2%25-20230521-ctx8192.pth'\n"
     ]
    }
   ],
   "source": [
    "# Memory benchmarking of the 7B model\n",
    "!python3 ./memory_script/eval_memory_guided.py \"../../../model/RWKV-4-Raven-7B-v12-Eng98%-Other2%-20230521-ctx8192.pth\" \"./logs/Raven-7B-v12.csv\""
   ]
  },
  {
   "cell_type": "code",
   "execution_count": 14,
   "metadata": {},
   "outputs": [
    {
     "name": "stdout",
     "output_type": "stream",
     "text": [
      "Using /home/ubuntu/.cache/torch_extensions/py311_cu118 as PyTorch extensions root...\n",
      "Detected CUDA files, patching ldflags\n",
      "Emitting ninja build file /home/ubuntu/.cache/torch_extensions/py311_cu118/wkv_cuda/build.ninja...\n",
      "Building extension module wkv_cuda...\n",
      "Allowing ninja to set a default number of workers... (overridable by setting the environment variable MAX_JOBS=N)\n",
      "ninja: no work to do.\n",
      "Loading extension module wkv_cuda...\n",
      "RWKV_JIT_ON 1 RWKV_CUDA_ON 1 RESCALE_LAYER 0\n",
      "\n",
      "Loading ../../../model/RWKV-4-Raven-14B-v12-Eng98%25-Other2%25-20230523-ctx8192.pth ...\n",
      "Traceback (most recent call last):\n",
      "  File \"/home/ubuntu/picocreator-memory-experiment/notebook/experiment/memory-enwiki-v2/./memory_script/eval_memory_guided.py\", line 57, in <module>\n",
      "    model = RWKV(model=model_path, strategy=model_run_strat)\n",
      "            ^^^^^^^^^^^^^^^^^^^^^^^^^^^^^^^^^^^^^^^^^^^^^^^^\n",
      "  File \"/home/ubuntu/anaconda3/envs/rwkv-infctx/lib/python3.11/site-packages/torch/jit/_script.py\", line 292, in init_then_script\n",
      "    original_init(self, *args, **kwargs)\n",
      "  File \"/home/ubuntu/anaconda3/envs/rwkv-infctx/lib/python3.11/site-packages/rwkv/model.py\", line 104, in __init__\n",
      "    self.w = torch.load(args.MODEL_NAME, map_location='cpu') # load model to CPU first\n",
      "             ^^^^^^^^^^^^^^^^^^^^^^^^^^^^^^^^^^^^^^^^^^^^^^^\n",
      "  File \"/home/ubuntu/anaconda3/envs/rwkv-infctx/lib/python3.11/site-packages/torch/serialization.py\", line 949, in load\n",
      "    with _open_file_like(f, 'rb') as opened_file:\n",
      "         ^^^^^^^^^^^^^^^^^^^^^^^^\n",
      "  File \"/home/ubuntu/anaconda3/envs/rwkv-infctx/lib/python3.11/site-packages/torch/serialization.py\", line 398, in _open_file_like\n",
      "    return _open_file(name_or_buffer, mode)\n",
      "           ^^^^^^^^^^^^^^^^^^^^^^^^^^^^^^^^\n",
      "  File \"/home/ubuntu/anaconda3/envs/rwkv-infctx/lib/python3.11/site-packages/torch/serialization.py\", line 379, in __init__\n",
      "    super().__init__(open(name, mode))\n",
      "                     ^^^^^^^^^^^^^^^^\n",
      "FileNotFoundError: [Errno 2] No such file or directory: '../../../model/RWKV-4-Raven-14B-v12-Eng98%25-Other2%25-20230523-ctx8192.pth'\n"
     ]
    }
   ],
   "source": [
    "# Memory benchmarking of the 14B model\n",
    "!python3 ./memory_script/eval_memory_guided.py \"../../../model/RWKV-4-Raven-14B-v12-Eng98%-Other2%-20230523-ctx8192.pth\" \"./logs/Raven-14B-v12.csv\""
   ]
  }
 ],
 "metadata": {
  "kernelspec": {
   "display_name": "rwkv-infctx",
   "language": "python",
   "name": "python3"
  },
  "language_info": {
   "codemirror_mode": {
    "name": "ipython",
    "version": 3
   },
   "file_extension": ".py",
   "mimetype": "text/x-python",
   "name": "python",
   "nbconvert_exporter": "python",
   "pygments_lexer": "ipython3",
   "version": "3.11.4"
  },
  "orig_nbformat": 4
 },
 "nbformat": 4,
 "nbformat_minor": 2
}
