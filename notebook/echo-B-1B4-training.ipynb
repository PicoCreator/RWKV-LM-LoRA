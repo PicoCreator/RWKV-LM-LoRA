{
 "cells": [
  {
   "attachments": {},
   "cell_type": "markdown",
   "metadata": {},
   "source": [
    "# Init the model using blink original repo \n",
    "(cancel the train after it init finish)\n",
    "\n",
    "```bash\n",
    "python train.py --load_model \"\" --proj_dir \"out-B-1B4\" \\\n",
    "--data_file \"../data/enwik8.npy\" --data_type \"numpy\" --vocab_size 50277 \\\n",
    "--ctx_len 2048 --epoch_steps 5000 --epoch_count 20 --epoch_begin 0 --epoch_save 1 \\\n",
    "--micro_bsz 64 --n_layer 96 --n_embd 1024 --pre_ffn 0 --head_qk 0 \\\n",
    "--lr_init 8e-4 --lr_final 2e-4 --warmup_steps 0 --beta1 0.9 --beta2 0.99 --adam_eps 1e-8 \\\n",
    "--accelerator gpu --devices 1 --precision bf16 --strategy deepspeed_stage_2_offload --grad_cp 0\n",
    "```\n",
    "\n",
    "Copy the `rwkv-init.pth` model from `out-B-1B4` dir, into the `build` dir as `Echo-B-Init-1B4.pth`"
   ]
  },
  {
   "cell_type": "code",
   "execution_count": null,
   "metadata": {},
   "outputs": [],
   "source": [
    "# Run the trainer\n",
    "!cd ../RWKV-v4neo && python new_train.py fit -c ./echo-B-1B4.yaml"
   ]
  }
 ],
 "metadata": {
  "kernelspec": {
   "display_name": "rwkv-exp",
   "language": "python",
   "name": "python3"
  },
  "language_info": {
   "name": "python",
   "version": "3.11.3"
  },
  "orig_nbformat": 4
 },
 "nbformat": 4,
 "nbformat_minor": 2
}
